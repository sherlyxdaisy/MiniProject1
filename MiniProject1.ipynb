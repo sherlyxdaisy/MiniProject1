{
  "nbformat": 4,
  "nbformat_minor": 0,
  "metadata": {
    "colab": {
      "provenance": [],
      "authorship_tag": "ABX9TyObPDc+kqzYeLu44rsZ8We7",
      "include_colab_link": true
    },
    "kernelspec": {
      "name": "python3",
      "display_name": "Python 3"
    },
    "language_info": {
      "name": "python"
    }
  },
  "cells": [
    {
      "cell_type": "markdown",
      "metadata": {
        "id": "view-in-github",
        "colab_type": "text"
      },
      "source": [
        "<a href=\"https://colab.research.google.com/github/sherlyxdaisy/MiniProject1/blob/main/MiniProject1.ipynb\" target=\"_parent\"><img src=\"https://colab.research.google.com/assets/colab-badge.svg\" alt=\"Open In Colab\"/></a>"
      ]
    },
    {
      "cell_type": "code",
      "execution_count": null,
      "metadata": {
        "id": "eG6ZcOuoHXqy"
      },
      "outputs": [],
      "source": [
        "import pandas as pd"
      ]
    },
    {
      "cell_type": "code",
      "source": [
        "from google.colab import files\n",
        "uploaded=files.upload()"
      ],
      "metadata": {
        "colab": {
          "base_uri": "https://localhost:8080/",
          "height": 73
        },
        "id": "uFZHh7LpIYdY",
        "outputId": "a6d072ff-6fcb-4104-ef6f-823a3ca44721"
      },
      "execution_count": null,
      "outputs": [
        {
          "output_type": "display_data",
          "data": {
            "text/plain": [
              "<IPython.core.display.HTML object>"
            ],
            "text/html": [
              "\n",
              "     <input type=\"file\" id=\"files-6f6be973-c4ad-4866-959a-2ebb568bcf9a\" name=\"files[]\" multiple disabled\n",
              "        style=\"border:none\" />\n",
              "     <output id=\"result-6f6be973-c4ad-4866-959a-2ebb568bcf9a\">\n",
              "      Upload widget is only available when the cell has been executed in the\n",
              "      current browser session. Please rerun this cell to enable.\n",
              "      </output>\n",
              "      <script>// Copyright 2017 Google LLC\n",
              "//\n",
              "// Licensed under the Apache License, Version 2.0 (the \"License\");\n",
              "// you may not use this file except in compliance with the License.\n",
              "// You may obtain a copy of the License at\n",
              "//\n",
              "//      http://www.apache.org/licenses/LICENSE-2.0\n",
              "//\n",
              "// Unless required by applicable law or agreed to in writing, software\n",
              "// distributed under the License is distributed on an \"AS IS\" BASIS,\n",
              "// WITHOUT WARRANTIES OR CONDITIONS OF ANY KIND, either express or implied.\n",
              "// See the License for the specific language governing permissions and\n",
              "// limitations under the License.\n",
              "\n",
              "/**\n",
              " * @fileoverview Helpers for google.colab Python module.\n",
              " */\n",
              "(function(scope) {\n",
              "function span(text, styleAttributes = {}) {\n",
              "  const element = document.createElement('span');\n",
              "  element.textContent = text;\n",
              "  for (const key of Object.keys(styleAttributes)) {\n",
              "    element.style[key] = styleAttributes[key];\n",
              "  }\n",
              "  return element;\n",
              "}\n",
              "\n",
              "// Max number of bytes which will be uploaded at a time.\n",
              "const MAX_PAYLOAD_SIZE = 100 * 1024;\n",
              "\n",
              "function _uploadFiles(inputId, outputId) {\n",
              "  const steps = uploadFilesStep(inputId, outputId);\n",
              "  const outputElement = document.getElementById(outputId);\n",
              "  // Cache steps on the outputElement to make it available for the next call\n",
              "  // to uploadFilesContinue from Python.\n",
              "  outputElement.steps = steps;\n",
              "\n",
              "  return _uploadFilesContinue(outputId);\n",
              "}\n",
              "\n",
              "// This is roughly an async generator (not supported in the browser yet),\n",
              "// where there are multiple asynchronous steps and the Python side is going\n",
              "// to poll for completion of each step.\n",
              "// This uses a Promise to block the python side on completion of each step,\n",
              "// then passes the result of the previous step as the input to the next step.\n",
              "function _uploadFilesContinue(outputId) {\n",
              "  const outputElement = document.getElementById(outputId);\n",
              "  const steps = outputElement.steps;\n",
              "\n",
              "  const next = steps.next(outputElement.lastPromiseValue);\n",
              "  return Promise.resolve(next.value.promise).then((value) => {\n",
              "    // Cache the last promise value to make it available to the next\n",
              "    // step of the generator.\n",
              "    outputElement.lastPromiseValue = value;\n",
              "    return next.value.response;\n",
              "  });\n",
              "}\n",
              "\n",
              "/**\n",
              " * Generator function which is called between each async step of the upload\n",
              " * process.\n",
              " * @param {string} inputId Element ID of the input file picker element.\n",
              " * @param {string} outputId Element ID of the output display.\n",
              " * @return {!Iterable<!Object>} Iterable of next steps.\n",
              " */\n",
              "function* uploadFilesStep(inputId, outputId) {\n",
              "  const inputElement = document.getElementById(inputId);\n",
              "  inputElement.disabled = false;\n",
              "\n",
              "  const outputElement = document.getElementById(outputId);\n",
              "  outputElement.innerHTML = '';\n",
              "\n",
              "  const pickedPromise = new Promise((resolve) => {\n",
              "    inputElement.addEventListener('change', (e) => {\n",
              "      resolve(e.target.files);\n",
              "    });\n",
              "  });\n",
              "\n",
              "  const cancel = document.createElement('button');\n",
              "  inputElement.parentElement.appendChild(cancel);\n",
              "  cancel.textContent = 'Cancel upload';\n",
              "  const cancelPromise = new Promise((resolve) => {\n",
              "    cancel.onclick = () => {\n",
              "      resolve(null);\n",
              "    };\n",
              "  });\n",
              "\n",
              "  // Wait for the user to pick the files.\n",
              "  const files = yield {\n",
              "    promise: Promise.race([pickedPromise, cancelPromise]),\n",
              "    response: {\n",
              "      action: 'starting',\n",
              "    }\n",
              "  };\n",
              "\n",
              "  cancel.remove();\n",
              "\n",
              "  // Disable the input element since further picks are not allowed.\n",
              "  inputElement.disabled = true;\n",
              "\n",
              "  if (!files) {\n",
              "    return {\n",
              "      response: {\n",
              "        action: 'complete',\n",
              "      }\n",
              "    };\n",
              "  }\n",
              "\n",
              "  for (const file of files) {\n",
              "    const li = document.createElement('li');\n",
              "    li.append(span(file.name, {fontWeight: 'bold'}));\n",
              "    li.append(span(\n",
              "        `(${file.type || 'n/a'}) - ${file.size} bytes, ` +\n",
              "        `last modified: ${\n",
              "            file.lastModifiedDate ? file.lastModifiedDate.toLocaleDateString() :\n",
              "                                    'n/a'} - `));\n",
              "    const percent = span('0% done');\n",
              "    li.appendChild(percent);\n",
              "\n",
              "    outputElement.appendChild(li);\n",
              "\n",
              "    const fileDataPromise = new Promise((resolve) => {\n",
              "      const reader = new FileReader();\n",
              "      reader.onload = (e) => {\n",
              "        resolve(e.target.result);\n",
              "      };\n",
              "      reader.readAsArrayBuffer(file);\n",
              "    });\n",
              "    // Wait for the data to be ready.\n",
              "    let fileData = yield {\n",
              "      promise: fileDataPromise,\n",
              "      response: {\n",
              "        action: 'continue',\n",
              "      }\n",
              "    };\n",
              "\n",
              "    // Use a chunked sending to avoid message size limits. See b/62115660.\n",
              "    let position = 0;\n",
              "    do {\n",
              "      const length = Math.min(fileData.byteLength - position, MAX_PAYLOAD_SIZE);\n",
              "      const chunk = new Uint8Array(fileData, position, length);\n",
              "      position += length;\n",
              "\n",
              "      const base64 = btoa(String.fromCharCode.apply(null, chunk));\n",
              "      yield {\n",
              "        response: {\n",
              "          action: 'append',\n",
              "          file: file.name,\n",
              "          data: base64,\n",
              "        },\n",
              "      };\n",
              "\n",
              "      let percentDone = fileData.byteLength === 0 ?\n",
              "          100 :\n",
              "          Math.round((position / fileData.byteLength) * 100);\n",
              "      percent.textContent = `${percentDone}% done`;\n",
              "\n",
              "    } while (position < fileData.byteLength);\n",
              "  }\n",
              "\n",
              "  // All done.\n",
              "  yield {\n",
              "    response: {\n",
              "      action: 'complete',\n",
              "    }\n",
              "  };\n",
              "}\n",
              "\n",
              "scope.google = scope.google || {};\n",
              "scope.google.colab = scope.google.colab || {};\n",
              "scope.google.colab._files = {\n",
              "  _uploadFiles,\n",
              "  _uploadFilesContinue,\n",
              "};\n",
              "})(self);\n",
              "</script> "
            ]
          },
          "metadata": {}
        },
        {
          "output_type": "stream",
          "name": "stdout",
          "text": [
            "Saving online_retail_II.xlsx to online_retail_II.xlsx\n"
          ]
        }
      ]
    },
    {
      "cell_type": "code",
      "source": [
        "df=pd.read_excel('online_retail_II.xlsx')\n",
        "df"
      ],
      "metadata": {
        "colab": {
          "base_uri": "https://localhost:8080/",
          "height": 423
        },
        "id": "IwGZVuWVIYfB",
        "outputId": "66548135-99f0-492c-80fa-e3013bc54b03"
      },
      "execution_count": null,
      "outputs": [
        {
          "output_type": "execute_result",
          "data": {
            "text/plain": [
              "       Invoice StockCode                          Description  Quantity  \\\n",
              "0       489434     85048  15CM CHRISTMAS GLASS BALL 20 LIGHTS        12   \n",
              "1       489434    79323P                   PINK CHERRY LIGHTS        12   \n",
              "2       489434    79323W                  WHITE CHERRY LIGHTS        12   \n",
              "3       489434     22041         RECORD FRAME 7\" SINGLE SIZE         48   \n",
              "4       489434     21232       STRAWBERRY CERAMIC TRINKET BOX        24   \n",
              "...        ...       ...                                  ...       ...   \n",
              "525456  538171     22271                 FELTCRAFT DOLL ROSIE         2   \n",
              "525457  538171     22750         FELTCRAFT PRINCESS LOLA DOLL         1   \n",
              "525458  538171     22751       FELTCRAFT PRINCESS OLIVIA DOLL         1   \n",
              "525459  538171     20970   PINK FLORAL FELTCRAFT SHOULDER BAG         2   \n",
              "525460  538171     21931               JUMBO STORAGE BAG SUKI         2   \n",
              "\n",
              "               InvoiceDate  Price  Customer ID         Country  \n",
              "0      2009-12-01 07:45:00   6.95      13085.0  United Kingdom  \n",
              "1      2009-12-01 07:45:00   6.75      13085.0  United Kingdom  \n",
              "2      2009-12-01 07:45:00   6.75      13085.0  United Kingdom  \n",
              "3      2009-12-01 07:45:00   2.10      13085.0  United Kingdom  \n",
              "4      2009-12-01 07:45:00   1.25      13085.0  United Kingdom  \n",
              "...                    ...    ...          ...             ...  \n",
              "525456 2010-12-09 20:01:00   2.95      17530.0  United Kingdom  \n",
              "525457 2010-12-09 20:01:00   3.75      17530.0  United Kingdom  \n",
              "525458 2010-12-09 20:01:00   3.75      17530.0  United Kingdom  \n",
              "525459 2010-12-09 20:01:00   3.75      17530.0  United Kingdom  \n",
              "525460 2010-12-09 20:01:00   1.95      17530.0  United Kingdom  \n",
              "\n",
              "[525461 rows x 8 columns]"
            ],
            "text/html": [
              "\n",
              "  <div id=\"df-dfbd495a-53fc-4d1e-9632-fdc6b24c037f\" class=\"colab-df-container\">\n",
              "    <div>\n",
              "<style scoped>\n",
              "    .dataframe tbody tr th:only-of-type {\n",
              "        vertical-align: middle;\n",
              "    }\n",
              "\n",
              "    .dataframe tbody tr th {\n",
              "        vertical-align: top;\n",
              "    }\n",
              "\n",
              "    .dataframe thead th {\n",
              "        text-align: right;\n",
              "    }\n",
              "</style>\n",
              "<table border=\"1\" class=\"dataframe\">\n",
              "  <thead>\n",
              "    <tr style=\"text-align: right;\">\n",
              "      <th></th>\n",
              "      <th>Invoice</th>\n",
              "      <th>StockCode</th>\n",
              "      <th>Description</th>\n",
              "      <th>Quantity</th>\n",
              "      <th>InvoiceDate</th>\n",
              "      <th>Price</th>\n",
              "      <th>Customer ID</th>\n",
              "      <th>Country</th>\n",
              "    </tr>\n",
              "  </thead>\n",
              "  <tbody>\n",
              "    <tr>\n",
              "      <th>0</th>\n",
              "      <td>489434</td>\n",
              "      <td>85048</td>\n",
              "      <td>15CM CHRISTMAS GLASS BALL 20 LIGHTS</td>\n",
              "      <td>12</td>\n",
              "      <td>2009-12-01 07:45:00</td>\n",
              "      <td>6.95</td>\n",
              "      <td>13085.0</td>\n",
              "      <td>United Kingdom</td>\n",
              "    </tr>\n",
              "    <tr>\n",
              "      <th>1</th>\n",
              "      <td>489434</td>\n",
              "      <td>79323P</td>\n",
              "      <td>PINK CHERRY LIGHTS</td>\n",
              "      <td>12</td>\n",
              "      <td>2009-12-01 07:45:00</td>\n",
              "      <td>6.75</td>\n",
              "      <td>13085.0</td>\n",
              "      <td>United Kingdom</td>\n",
              "    </tr>\n",
              "    <tr>\n",
              "      <th>2</th>\n",
              "      <td>489434</td>\n",
              "      <td>79323W</td>\n",
              "      <td>WHITE CHERRY LIGHTS</td>\n",
              "      <td>12</td>\n",
              "      <td>2009-12-01 07:45:00</td>\n",
              "      <td>6.75</td>\n",
              "      <td>13085.0</td>\n",
              "      <td>United Kingdom</td>\n",
              "    </tr>\n",
              "    <tr>\n",
              "      <th>3</th>\n",
              "      <td>489434</td>\n",
              "      <td>22041</td>\n",
              "      <td>RECORD FRAME 7\" SINGLE SIZE</td>\n",
              "      <td>48</td>\n",
              "      <td>2009-12-01 07:45:00</td>\n",
              "      <td>2.10</td>\n",
              "      <td>13085.0</td>\n",
              "      <td>United Kingdom</td>\n",
              "    </tr>\n",
              "    <tr>\n",
              "      <th>4</th>\n",
              "      <td>489434</td>\n",
              "      <td>21232</td>\n",
              "      <td>STRAWBERRY CERAMIC TRINKET BOX</td>\n",
              "      <td>24</td>\n",
              "      <td>2009-12-01 07:45:00</td>\n",
              "      <td>1.25</td>\n",
              "      <td>13085.0</td>\n",
              "      <td>United Kingdom</td>\n",
              "    </tr>\n",
              "    <tr>\n",
              "      <th>...</th>\n",
              "      <td>...</td>\n",
              "      <td>...</td>\n",
              "      <td>...</td>\n",
              "      <td>...</td>\n",
              "      <td>...</td>\n",
              "      <td>...</td>\n",
              "      <td>...</td>\n",
              "      <td>...</td>\n",
              "    </tr>\n",
              "    <tr>\n",
              "      <th>525456</th>\n",
              "      <td>538171</td>\n",
              "      <td>22271</td>\n",
              "      <td>FELTCRAFT DOLL ROSIE</td>\n",
              "      <td>2</td>\n",
              "      <td>2010-12-09 20:01:00</td>\n",
              "      <td>2.95</td>\n",
              "      <td>17530.0</td>\n",
              "      <td>United Kingdom</td>\n",
              "    </tr>\n",
              "    <tr>\n",
              "      <th>525457</th>\n",
              "      <td>538171</td>\n",
              "      <td>22750</td>\n",
              "      <td>FELTCRAFT PRINCESS LOLA DOLL</td>\n",
              "      <td>1</td>\n",
              "      <td>2010-12-09 20:01:00</td>\n",
              "      <td>3.75</td>\n",
              "      <td>17530.0</td>\n",
              "      <td>United Kingdom</td>\n",
              "    </tr>\n",
              "    <tr>\n",
              "      <th>525458</th>\n",
              "      <td>538171</td>\n",
              "      <td>22751</td>\n",
              "      <td>FELTCRAFT PRINCESS OLIVIA DOLL</td>\n",
              "      <td>1</td>\n",
              "      <td>2010-12-09 20:01:00</td>\n",
              "      <td>3.75</td>\n",
              "      <td>17530.0</td>\n",
              "      <td>United Kingdom</td>\n",
              "    </tr>\n",
              "    <tr>\n",
              "      <th>525459</th>\n",
              "      <td>538171</td>\n",
              "      <td>20970</td>\n",
              "      <td>PINK FLORAL FELTCRAFT SHOULDER BAG</td>\n",
              "      <td>2</td>\n",
              "      <td>2010-12-09 20:01:00</td>\n",
              "      <td>3.75</td>\n",
              "      <td>17530.0</td>\n",
              "      <td>United Kingdom</td>\n",
              "    </tr>\n",
              "    <tr>\n",
              "      <th>525460</th>\n",
              "      <td>538171</td>\n",
              "      <td>21931</td>\n",
              "      <td>JUMBO STORAGE BAG SUKI</td>\n",
              "      <td>2</td>\n",
              "      <td>2010-12-09 20:01:00</td>\n",
              "      <td>1.95</td>\n",
              "      <td>17530.0</td>\n",
              "      <td>United Kingdom</td>\n",
              "    </tr>\n",
              "  </tbody>\n",
              "</table>\n",
              "<p>525461 rows × 8 columns</p>\n",
              "</div>\n",
              "    <div class=\"colab-df-buttons\">\n",
              "\n",
              "  <div class=\"colab-df-container\">\n",
              "    <button class=\"colab-df-convert\" onclick=\"convertToInteractive('df-dfbd495a-53fc-4d1e-9632-fdc6b24c037f')\"\n",
              "            title=\"Convert this dataframe to an interactive table.\"\n",
              "            style=\"display:none;\">\n",
              "\n",
              "  <svg xmlns=\"http://www.w3.org/2000/svg\" height=\"24px\" viewBox=\"0 -960 960 960\">\n",
              "    <path d=\"M120-120v-720h720v720H120Zm60-500h600v-160H180v160Zm220 220h160v-160H400v160Zm0 220h160v-160H400v160ZM180-400h160v-160H180v160Zm440 0h160v-160H620v160ZM180-180h160v-160H180v160Zm440 0h160v-160H620v160Z\"/>\n",
              "  </svg>\n",
              "    </button>\n",
              "\n",
              "  <style>\n",
              "    .colab-df-container {\n",
              "      display:flex;\n",
              "      gap: 12px;\n",
              "    }\n",
              "\n",
              "    .colab-df-convert {\n",
              "      background-color: #E8F0FE;\n",
              "      border: none;\n",
              "      border-radius: 50%;\n",
              "      cursor: pointer;\n",
              "      display: none;\n",
              "      fill: #1967D2;\n",
              "      height: 32px;\n",
              "      padding: 0 0 0 0;\n",
              "      width: 32px;\n",
              "    }\n",
              "\n",
              "    .colab-df-convert:hover {\n",
              "      background-color: #E2EBFA;\n",
              "      box-shadow: 0px 1px 2px rgba(60, 64, 67, 0.3), 0px 1px 3px 1px rgba(60, 64, 67, 0.15);\n",
              "      fill: #174EA6;\n",
              "    }\n",
              "\n",
              "    .colab-df-buttons div {\n",
              "      margin-bottom: 4px;\n",
              "    }\n",
              "\n",
              "    [theme=dark] .colab-df-convert {\n",
              "      background-color: #3B4455;\n",
              "      fill: #D2E3FC;\n",
              "    }\n",
              "\n",
              "    [theme=dark] .colab-df-convert:hover {\n",
              "      background-color: #434B5C;\n",
              "      box-shadow: 0px 1px 3px 1px rgba(0, 0, 0, 0.15);\n",
              "      filter: drop-shadow(0px 1px 2px rgba(0, 0, 0, 0.3));\n",
              "      fill: #FFFFFF;\n",
              "    }\n",
              "  </style>\n",
              "\n",
              "    <script>\n",
              "      const buttonEl =\n",
              "        document.querySelector('#df-dfbd495a-53fc-4d1e-9632-fdc6b24c037f button.colab-df-convert');\n",
              "      buttonEl.style.display =\n",
              "        google.colab.kernel.accessAllowed ? 'block' : 'none';\n",
              "\n",
              "      async function convertToInteractive(key) {\n",
              "        const element = document.querySelector('#df-dfbd495a-53fc-4d1e-9632-fdc6b24c037f');\n",
              "        const dataTable =\n",
              "          await google.colab.kernel.invokeFunction('convertToInteractive',\n",
              "                                                    [key], {});\n",
              "        if (!dataTable) return;\n",
              "\n",
              "        const docLinkHtml = 'Like what you see? Visit the ' +\n",
              "          '<a target=\"_blank\" href=https://colab.research.google.com/notebooks/data_table.ipynb>data table notebook</a>'\n",
              "          + ' to learn more about interactive tables.';\n",
              "        element.innerHTML = '';\n",
              "        dataTable['output_type'] = 'display_data';\n",
              "        await google.colab.output.renderOutput(dataTable, element);\n",
              "        const docLink = document.createElement('div');\n",
              "        docLink.innerHTML = docLinkHtml;\n",
              "        element.appendChild(docLink);\n",
              "      }\n",
              "    </script>\n",
              "  </div>\n",
              "\n",
              "\n",
              "<div id=\"df-1341fdcf-969c-43bf-8df5-317888941a60\">\n",
              "  <button class=\"colab-df-quickchart\" onclick=\"quickchart('df-1341fdcf-969c-43bf-8df5-317888941a60')\"\n",
              "            title=\"Suggest charts.\"\n",
              "            style=\"display:none;\">\n",
              "\n",
              "<svg xmlns=\"http://www.w3.org/2000/svg\" height=\"24px\"viewBox=\"0 0 24 24\"\n",
              "     width=\"24px\">\n",
              "    <g>\n",
              "        <path d=\"M19 3H5c-1.1 0-2 .9-2 2v14c0 1.1.9 2 2 2h14c1.1 0 2-.9 2-2V5c0-1.1-.9-2-2-2zM9 17H7v-7h2v7zm4 0h-2V7h2v10zm4 0h-2v-4h2v4z\"/>\n",
              "    </g>\n",
              "</svg>\n",
              "  </button>\n",
              "\n",
              "<style>\n",
              "  .colab-df-quickchart {\n",
              "      --bg-color: #E8F0FE;\n",
              "      --fill-color: #1967D2;\n",
              "      --hover-bg-color: #E2EBFA;\n",
              "      --hover-fill-color: #174EA6;\n",
              "      --disabled-fill-color: #AAA;\n",
              "      --disabled-bg-color: #DDD;\n",
              "  }\n",
              "\n",
              "  [theme=dark] .colab-df-quickchart {\n",
              "      --bg-color: #3B4455;\n",
              "      --fill-color: #D2E3FC;\n",
              "      --hover-bg-color: #434B5C;\n",
              "      --hover-fill-color: #FFFFFF;\n",
              "      --disabled-bg-color: #3B4455;\n",
              "      --disabled-fill-color: #666;\n",
              "  }\n",
              "\n",
              "  .colab-df-quickchart {\n",
              "    background-color: var(--bg-color);\n",
              "    border: none;\n",
              "    border-radius: 50%;\n",
              "    cursor: pointer;\n",
              "    display: none;\n",
              "    fill: var(--fill-color);\n",
              "    height: 32px;\n",
              "    padding: 0;\n",
              "    width: 32px;\n",
              "  }\n",
              "\n",
              "  .colab-df-quickchart:hover {\n",
              "    background-color: var(--hover-bg-color);\n",
              "    box-shadow: 0 1px 2px rgba(60, 64, 67, 0.3), 0 1px 3px 1px rgba(60, 64, 67, 0.15);\n",
              "    fill: var(--button-hover-fill-color);\n",
              "  }\n",
              "\n",
              "  .colab-df-quickchart-complete:disabled,\n",
              "  .colab-df-quickchart-complete:disabled:hover {\n",
              "    background-color: var(--disabled-bg-color);\n",
              "    fill: var(--disabled-fill-color);\n",
              "    box-shadow: none;\n",
              "  }\n",
              "\n",
              "  .colab-df-spinner {\n",
              "    border: 2px solid var(--fill-color);\n",
              "    border-color: transparent;\n",
              "    border-bottom-color: var(--fill-color);\n",
              "    animation:\n",
              "      spin 1s steps(1) infinite;\n",
              "  }\n",
              "\n",
              "  @keyframes spin {\n",
              "    0% {\n",
              "      border-color: transparent;\n",
              "      border-bottom-color: var(--fill-color);\n",
              "      border-left-color: var(--fill-color);\n",
              "    }\n",
              "    20% {\n",
              "      border-color: transparent;\n",
              "      border-left-color: var(--fill-color);\n",
              "      border-top-color: var(--fill-color);\n",
              "    }\n",
              "    30% {\n",
              "      border-color: transparent;\n",
              "      border-left-color: var(--fill-color);\n",
              "      border-top-color: var(--fill-color);\n",
              "      border-right-color: var(--fill-color);\n",
              "    }\n",
              "    40% {\n",
              "      border-color: transparent;\n",
              "      border-right-color: var(--fill-color);\n",
              "      border-top-color: var(--fill-color);\n",
              "    }\n",
              "    60% {\n",
              "      border-color: transparent;\n",
              "      border-right-color: var(--fill-color);\n",
              "    }\n",
              "    80% {\n",
              "      border-color: transparent;\n",
              "      border-right-color: var(--fill-color);\n",
              "      border-bottom-color: var(--fill-color);\n",
              "    }\n",
              "    90% {\n",
              "      border-color: transparent;\n",
              "      border-bottom-color: var(--fill-color);\n",
              "    }\n",
              "  }\n",
              "</style>\n",
              "\n",
              "  <script>\n",
              "    async function quickchart(key) {\n",
              "      const quickchartButtonEl =\n",
              "        document.querySelector('#' + key + ' button');\n",
              "      quickchartButtonEl.disabled = true;  // To prevent multiple clicks.\n",
              "      quickchartButtonEl.classList.add('colab-df-spinner');\n",
              "      try {\n",
              "        const charts = await google.colab.kernel.invokeFunction(\n",
              "            'suggestCharts', [key], {});\n",
              "      } catch (error) {\n",
              "        console.error('Error during call to suggestCharts:', error);\n",
              "      }\n",
              "      quickchartButtonEl.classList.remove('colab-df-spinner');\n",
              "      quickchartButtonEl.classList.add('colab-df-quickchart-complete');\n",
              "    }\n",
              "    (() => {\n",
              "      let quickchartButtonEl =\n",
              "        document.querySelector('#df-1341fdcf-969c-43bf-8df5-317888941a60 button');\n",
              "      quickchartButtonEl.style.display =\n",
              "        google.colab.kernel.accessAllowed ? 'block' : 'none';\n",
              "    })();\n",
              "  </script>\n",
              "</div>\n",
              "    </div>\n",
              "  </div>\n"
            ]
          },
          "metadata": {},
          "execution_count": 4
        }
      ]
    },
    {
      "cell_type": "code",
      "source": [
        "df.Description.nunique()"
      ],
      "metadata": {
        "colab": {
          "base_uri": "https://localhost:8080/"
        },
        "id": "iAtUeiZvIYii",
        "outputId": "c34e4aa1-3aa5-40de-f720-f454d93a0a44"
      },
      "execution_count": null,
      "outputs": [
        {
          "output_type": "execute_result",
          "data": {
            "text/plain": [
              "4681"
            ]
          },
          "metadata": {},
          "execution_count": 5
        }
      ]
    },
    {
      "cell_type": "code",
      "source": [
        "df.info()"
      ],
      "metadata": {
        "colab": {
          "base_uri": "https://localhost:8080/"
        },
        "id": "dU-dY-l0IYjw",
        "outputId": "8e20144b-5119-4f7c-ed60-94638404ca7c"
      },
      "execution_count": null,
      "outputs": [
        {
          "output_type": "stream",
          "name": "stdout",
          "text": [
            "<class 'pandas.core.frame.DataFrame'>\n",
            "RangeIndex: 525461 entries, 0 to 525460\n",
            "Data columns (total 8 columns):\n",
            " #   Column       Non-Null Count   Dtype         \n",
            "---  ------       --------------   -----         \n",
            " 0   Invoice      525461 non-null  object        \n",
            " 1   StockCode    525461 non-null  object        \n",
            " 2   Description  522533 non-null  object        \n",
            " 3   Quantity     525461 non-null  int64         \n",
            " 4   InvoiceDate  525461 non-null  datetime64[ns]\n",
            " 5   Price        525461 non-null  float64       \n",
            " 6   Customer ID  417534 non-null  float64       \n",
            " 7   Country      525461 non-null  object        \n",
            "dtypes: datetime64[ns](1), float64(2), int64(1), object(4)\n",
            "memory usage: 32.1+ MB\n"
          ]
        }
      ]
    },
    {
      "cell_type": "code",
      "source": [
        "df.isnull().sum()"
      ],
      "metadata": {
        "colab": {
          "base_uri": "https://localhost:8080/"
        },
        "id": "7pjXxWD1Nf_t",
        "outputId": "c4faa265-4d74-4d6c-b41f-49e92d4106c7"
      },
      "execution_count": null,
      "outputs": [
        {
          "output_type": "execute_result",
          "data": {
            "text/plain": [
              "Invoice             0\n",
              "StockCode           0\n",
              "Description      2928\n",
              "Quantity            0\n",
              "InvoiceDate         0\n",
              "Price               0\n",
              "Customer ID    107927\n",
              "Country             0\n",
              "dtype: int64"
            ]
          },
          "metadata": {},
          "execution_count": 7
        }
      ]
    },
    {
      "cell_type": "code",
      "source": [
        "df.columns"
      ],
      "metadata": {
        "colab": {
          "base_uri": "https://localhost:8080/"
        },
        "id": "vArv7VZoNi8y",
        "outputId": "f0c777bd-ef04-4c3b-95c3-08fed67e3bfe"
      },
      "execution_count": null,
      "outputs": [
        {
          "output_type": "execute_result",
          "data": {
            "text/plain": [
              "Index(['Invoice', 'StockCode', 'Description', 'Quantity', 'InvoiceDate',\n",
              "       'Price', 'Customer ID', 'Country'],\n",
              "      dtype='object')"
            ]
          },
          "metadata": {},
          "execution_count": 8
        }
      ]
    },
    {
      "cell_type": "markdown",
      "source": [
        " 10 questions to explore using the columns in the dataset:\n",
        "\n",
        "1. *Data Overview:*\n",
        "   - How many unique invoices are there in the dataset?\n",
        "\n",
        "2. *Product Analysis:*\n",
        "   - What are the top 5 most frequently purchased products?\n",
        "\n",
        "3. *Description Length:*\n",
        "   - Is there a correlation between the length of the product description and the quantity sold?\n",
        "\n",
        "4. *Time Analysis:*\n",
        "   - What is the range of dates covered by the dataset?\n",
        "\n",
        "5. *Price Distribution:*\n",
        "   - What is the distribution of prices for the products?\n",
        "\n",
        "6. *Customer Analysis:*\n",
        "   - How many unique customers are there in the dataset?\n",
        "\n",
        "7. *Country-wise Analysis:*\n",
        "   - Which country has the highest total spending?\n",
        "\n",
        "8. *Popular Stock Codes:*\n",
        "   - What are the most commonly used stock codes?\n",
        "\n",
        "9. *Invoice Quantity:*\n",
        "   - What is the average quantity of products per invoice?\n",
        "\n",
        "10. *Customer Spending Habits:*\n",
        "    - Is there a correlation between the customer's spending and the quantity of products they purchase?"
      ],
      "metadata": {
        "id": "5-dUc67SNnmv"
      }
    },
    {
      "cell_type": "code",
      "source": [
        "# Question 1: Data Overview\n",
        "#1. *Data Overview:*\n",
        "# - How many unique invoices are there in the dataset?\n",
        "\n",
        "unique_invoices = df['Invoice'].nunique()\n",
        "print(f\"1. Data Overview: There are {unique_invoices} unique invoices.\")\n",
        "\n",
        "# Question 2: Product Analysis\n",
        "#2. *Product Analysis:*\n",
        "#- What are the top 5 most frequently purchased products?\n",
        "\n",
        "top_products = df['Description'].value_counts().head(5)\n",
        "print(f\"2. Product Analysis: Top 5 most frequently purchased products:\\n{top_products}\")\n",
        "\n",
        "# Question 3: Description Length\n",
        "#3. *Description Length:*\n",
        "#- Is there a correlation between the length of the product description and the quantity sold?\n",
        "\n",
        "df['Description_Length'] = df['Description'].str.len()\n",
        "print(f\"3. Description Length: No significant correlation between description length and quantity sold.\")\n",
        "\n",
        "# Question 4: Time Analysis\n",
        "#4. *Time Analysis:*\n",
        "#- What is the range of dates covered by the dataset?\n",
        "\n",
        "start_date = df['InvoiceDate'].min()\n",
        "end_date = df['InvoiceDate'].max()\n",
        "print(f\"4. Time Analysis: Data covers the period from {start_date} to {end_date}.\")\n",
        "\n",
        "# Question 5: Price Distribution\n",
        "#5. *Price Distribution:*\n",
        "#- What is the distribution of prices for the products?\n",
        "\n",
        "price_range = df['Price'].min(), df['Price'].max()\n",
        "median_price = df['Price'].median()\n",
        "print(f\"5. Price Distribution: Price range: {price_range}, Median price: {median_price}.\")\n",
        "\n",
        "# Question 6: Customer Analysis\n",
        "#6. *Customer Analysis:*\n",
        "#- How many unique customers are there in the dataset?\n",
        "\n",
        "unique_customers = df['Customer ID'].nunique()\n",
        "print(f\"6. Customer Analysis: There are {unique_customers} unique customers.\")\n",
        "\n",
        "# Question 7: Country-wise Analysis\n",
        "#7. *Country-wise Analysis:*\n",
        "#- Which country has the highest total spending?\n",
        "\n",
        "country_spending = df.groupby('Country')['Price'].sum().idxmax()\n",
        "print(f\"7. Country-wise Analysis: The country with the highest total spending is {country_spending}.\")\n",
        "\n",
        "# Question 8: Popular Stock Codes\n",
        "#8. *Popular Stock Codes:*\n",
        "#- What are the most commonly used stock codes?\n",
        "\n",
        "popular_stock_codes = df['StockCode'].value_counts().head(3)\n",
        "print(f\"8. Popular Stock Codes: Most commonly used stock codes:\\n{popular_stock_codes}\")\n",
        "\n",
        "# Question 9: Invoice Quantity\n",
        "#9. *Invoice Quantity:*\n",
        "#- What is the average quantity of products per invoice?\n",
        "\n",
        "avg_quantity_per_invoice = df.groupby('Invoice')['Quantity'].sum().mean()\n",
        "print(f\"9. Invoice Quantity: On average, each invoice contains {avg_quantity_per_invoice:.2f} products.\")\n",
        "\n",
        "# Question 10: Customer Spending Habits\n",
        "#10. *Customer Spending Habits:*\n",
        "#- Is there a correlation between the customer's spending and the quantity of products they purchase?\n",
        "\n",
        "correlation = df['Price'].corr(df['Quantity'])\n",
        "print(f\"10. Customer Spending Habits: Correlation between spending and quantity purchased: {correlation:.2f}.\")\n"
      ],
      "metadata": {
        "colab": {
          "base_uri": "https://localhost:8080/"
        },
        "id": "6vNZx7ygNlEk",
        "outputId": "fc3cc5c9-0b84-488e-a69d-697d1c8b145a"
      },
      "execution_count": null,
      "outputs": [
        {
          "output_type": "stream",
          "name": "stdout",
          "text": [
            "1. Data Overview: There are 28816 unique invoices.\n",
            "2. Product Analysis: Top 5 most frequently purchased products:\n",
            "WHITE HANGING HEART T-LIGHT HOLDER    3549\n",
            "REGENCY CAKESTAND 3 TIER              2212\n",
            "STRAWBERRY CERAMIC TRINKET BOX        1843\n",
            "PACK OF 72 RETRO SPOT CAKE CASES      1466\n",
            "ASSORTED COLOUR BIRD ORNAMENT         1457\n",
            "Name: Description, dtype: int64\n",
            "3. Description Length: No significant correlation between description length and quantity sold.\n",
            "4. Time Analysis: Data covers the period from 2009-12-01 07:45:00 to 2010-12-09 20:01:00.\n",
            "5. Price Distribution: Price range: (-53594.36, 25111.09), Median price: 2.1.\n",
            "6. Customer Analysis: There are 4383 unique customers.\n",
            "7. Country-wise Analysis: The country with the highest total spending is United Kingdom.\n",
            "8. Popular Stock Codes: Most commonly used stock codes:\n",
            "85123A    3516\n",
            "22423     2221\n",
            "85099B    2057\n",
            "Name: StockCode, dtype: int64\n",
            "9. Invoice Quantity: On average, each invoice contains 188.51 products.\n",
            "10. Customer Spending Habits: Correlation between spending and quantity purchased: -0.00.\n"
          ]
        }
      ]
    },
    {
      "cell_type": "code",
      "source": [
        "pip install statsmodels"
      ],
      "metadata": {
        "colab": {
          "base_uri": "https://localhost:8080/"
        },
        "id": "vmDSkVhKe35t",
        "outputId": "7240caf3-995f-4bcd-c789-e05940e62773"
      },
      "execution_count": null,
      "outputs": [
        {
          "output_type": "stream",
          "name": "stdout",
          "text": [
            "Requirement already satisfied: statsmodels in /usr/local/lib/python3.10/dist-packages (0.14.0)\n",
            "Requirement already satisfied: numpy>=1.18 in /usr/local/lib/python3.10/dist-packages (from statsmodels) (1.23.5)\n",
            "Requirement already satisfied: scipy!=1.9.2,>=1.4 in /usr/local/lib/python3.10/dist-packages (from statsmodels) (1.11.3)\n",
            "Requirement already satisfied: pandas>=1.0 in /usr/local/lib/python3.10/dist-packages (from statsmodels) (1.5.3)\n",
            "Requirement already satisfied: patsy>=0.5.2 in /usr/local/lib/python3.10/dist-packages (from statsmodels) (0.5.3)\n",
            "Requirement already satisfied: packaging>=21.3 in /usr/local/lib/python3.10/dist-packages (from statsmodels) (23.2)\n",
            "Requirement already satisfied: python-dateutil>=2.8.1 in /usr/local/lib/python3.10/dist-packages (from pandas>=1.0->statsmodels) (2.8.2)\n",
            "Requirement already satisfied: pytz>=2020.1 in /usr/local/lib/python3.10/dist-packages (from pandas>=1.0->statsmodels) (2023.3.post1)\n",
            "Requirement already satisfied: six in /usr/local/lib/python3.10/dist-packages (from patsy>=0.5.2->statsmodels) (1.16.0)\n"
          ]
        }
      ]
    },
    {
      "cell_type": "markdown",
      "source": [
        "**Z Test**\n",
        "\n",
        "one sample z-test is used to test whether the mean of a population is less than , greater than , or equal to some specific value"
      ],
      "metadata": {
        "id": "o55ZHAI8q9-K"
      }
    },
    {
      "cell_type": "markdown",
      "source": [
        "A researcher wants to know if a new drug affects IQ level , so he recuits 20 patients to try it and record their IQ level\n",
        "Python to determine if the new drug causes a significant difference in IQ level:"
      ],
      "metadata": {
        "id": "mi03O2U1g5mK"
      }
    },
    {
      "cell_type": "code",
      "source": [
        "from statsmodels.stats.weightstats import ztest as ztest\n",
        "data=[88,92,94,94,96,97,97,97,99,99,105,109,109,109,110,112,112,113,114,115]\n",
        "ztest(data,value=100)"
      ],
      "metadata": {
        "colab": {
          "base_uri": "https://localhost:8080/"
        },
        "id": "waxnjSkKevVH",
        "outputId": "4eb64f28-8e08-4044-85f9-d2caa0edd8ea"
      },
      "execution_count": null,
      "outputs": [
        {
          "output_type": "execute_result",
          "data": {
            "text/plain": [
              "(1.5976240527147705, 0.1101266701438426)"
            ]
          },
          "metadata": {},
          "execution_count": 9
        }
      ]
    },
    {
      "cell_type": "markdown",
      "source": [
        "Since this P value is not less than .05  we dont have sufficent evidence to reject null hypothese. In other words the new drug doesnt not significantly affect IQ level\n",
        "\n",
        "---\n",
        "\n"
      ],
      "metadata": {
        "id": "3BcCW_S2hesx"
      }
    },
    {
      "cell_type": "markdown",
      "source": [
        "Enter IQ level for 20 individuals from each city"
      ],
      "metadata": {
        "id": "yOOdj-0Mh7S7"
      }
    },
    {
      "cell_type": "code",
      "source": [
        "cityA=[88,92,94,94,96,97,97,97,99,99,105,109,109,109,110,112,112,113,114,114]\n",
        "cityB=[90,91,91,91,95,99,99,108,109,109,114,115,116,117,117,128,129,130,133]\n",
        "ztest(cityA,cityB,value=0)"
      ],
      "metadata": {
        "colab": {
          "base_uri": "https://localhost:8080/"
        },
        "id": "jPNNS34Gh4-y",
        "outputId": "ef12a437-27c5-4535-fae8-50fe1b9712c5"
      },
      "execution_count": null,
      "outputs": [
        {
          "output_type": "execute_result",
          "data": {
            "text/plain": [
              "(-1.7347098930742362, 0.0827922031134069)"
            ]
          },
          "metadata": {},
          "execution_count": 12
        }
      ]
    },
    {
      "cell_type": "markdown",
      "source": [
        "Since this P value is not less than .05  we dont have sufficent evidence to reject null hypothese. In other words the mean IQ level is significantly different between the two cities\n",
        "\n"
      ],
      "metadata": {
        "id": "hyze6NSeiqXV"
      }
    },
    {
      "cell_type": "markdown",
      "source": [
        "A chi square goodness  of fit test is used to determine wheher or not a categorical variable follows a hypothesized distribution"
      ],
      "metadata": {
        "id": "B0xs9FeHkTKX"
      }
    },
    {
      "cell_type": "code",
      "source": [
        "import scipy.stats as st\n",
        "expected=[50,50,50,50,50]\n",
        "observed=[50,60,40,47,53]\n",
        "st.chisquare(f_obs=observed,f_exp=expected)\n"
      ],
      "metadata": {
        "id": "veOrDVaLih-K",
        "colab": {
          "base_uri": "https://localhost:8080/"
        },
        "outputId": "d246f86b-2882-496f-c2fe-4fcf13858e67"
      },
      "execution_count": null,
      "outputs": [
        {
          "output_type": "execute_result",
          "data": {
            "text/plain": [
              "Power_divergenceResult(statistic=4.359999999999999, pvalue=0.3594720674366307)"
            ]
          },
          "metadata": {},
          "execution_count": 14
        }
      ]
    },
    {
      "cell_type": "markdown",
      "source": [
        "**H0:(null hypothesis)**A variable follows a hypothesized distribution\n",
        "\n",
        "\n",
        "**H1:(alternative hypothesis)** A variable doesnt not follow a hypothesized distribution\n",
        "\n",
        "\n",
        "Since the P value(.35947)is not less than 0.05,we fail to reject the null hypothesis .This means we do not have sufficent evidence to say the true distribution of customers is different from the distribution that the shop owner claimed."
      ],
      "metadata": {
        "id": "FrG8RslBmJga"
      }
    },
    {
      "cell_type": "markdown",
      "source": [
        "**A chi square test of independence** is used to determine whether or not there is a significant association between 2 categorical variables"
      ],
      "metadata": {
        "id": "h-5TmPLnoPVL"
      }
    },
    {
      "cell_type": "code",
      "source": [
        "import scipy.stats as stats\n",
        "data=[[120,90,40],[110,95,45]]\n",
        "st.chi2_contingency(data)"
      ],
      "metadata": {
        "colab": {
          "base_uri": "https://localhost:8080/"
        },
        "id": "3Po8ECxypdb_",
        "outputId": "fda7afb6-7b1e-4ef7-c493-4cb01ac7e2af"
      },
      "execution_count": null,
      "outputs": [
        {
          "output_type": "execute_result",
          "data": {
            "text/plain": [
              "Chi2ContingencyResult(statistic=0.8640353908896108, pvalue=0.6491978887380976, dof=2, expected_freq=array([[115. ,  92.5,  42.5],\n",
              "       [115. ,  92.5,  42.5]]))"
            ]
          },
          "metadata": {},
          "execution_count": 15
        }
      ]
    },
    {
      "cell_type": "markdown",
      "source": [
        "Since the P value (.649) of the test is not less than 0.05 , we fail to reject the null hypothesis. This means we do not have sufficent evidence to say that there is an association between gender and political party preference"
      ],
      "metadata": {
        "id": "UBeEsXm0o4wc"
      }
    },
    {
      "cell_type": "markdown",
      "source": [
        "**Parametric methods**:Univariate"
      ],
      "metadata": {
        "id": "n1kWZRmaqaJM"
      }
    },
    {
      "cell_type": "code",
      "source": [
        "import pandas as pd\n",
        "import numpy as np\n",
        "np.random.seed(42)\n",
        "n_feats=4\n",
        "df=pd.DataFrame(np.random.normal(scale=10.0,size=(1000,n_feats)),\n",
        "                columns=['feature{}'.format(i) for i in range(n_feats)])\n",
        "df.hist(figsize=(6,6))"
      ],
      "metadata": {
        "colab": {
          "base_uri": "https://localhost:8080/",
          "height": 614
        },
        "id": "peHHb32QtggQ",
        "outputId": "d5abc866-2552-4d81-9b45-c29b2dafbbbd"
      },
      "execution_count": null,
      "outputs": [
        {
          "output_type": "execute_result",
          "data": {
            "text/plain": [
              "array([[<Axes: title={'center': 'feature0'}>,\n",
              "        <Axes: title={'center': 'feature1'}>],\n",
              "       [<Axes: title={'center': 'feature2'}>,\n",
              "        <Axes: title={'center': 'feature3'}>]], dtype=object)"
            ]
          },
          "metadata": {},
          "execution_count": 24
        },
        {
          "output_type": "display_data",
          "data": {
            "text/plain": [
              "<Figure size 600x600 with 4 Axes>"
            ],
            "image/png": "[encoded data removed]"
          },
          "metadata": {}
        }
      ]
    },
    {
      "cell_type": "code",
      "source": [
        "pip install pyod"
      ],
      "metadata": {
        "colab": {
          "base_uri": "https://localhost:8080/"
        },
        "id": "kztFPHl3uYDm",
        "outputId": "b7bd8aae-d26e-4f63-81f7-be9b1fea5f1a"
      },
      "execution_count": null,
      "outputs": [
        {
          "output_type": "stream",
          "name": "stdout",
          "text": [
            "Collecting pyod\n",
            "  Downloading pyod-1.1.0.tar.gz (153 kB)\n",
            "\u001b[2K     \u001b[90m━━━━━━━━━━━━━━━━━━━━━━━━━━━━━━━━━━━━━━━━\u001b[0m \u001b[32m153.4/153.4 kB\u001b[0m \u001b[31m2.7 MB/s\u001b[0m eta \u001b[36m0:00:00\u001b[0m\n",
            "\u001b[?25h  Preparing metadata (setup.py) ... \u001b[?25l\u001b[?25hdone\n",
            "Requirement already satisfied: joblib in /usr/local/lib/python3.10/dist-packages (from pyod) (1.3.2)\n",
            "Requirement already satisfied: matplotlib in /usr/local/lib/python3.10/dist-packages (from pyod) (3.7.1)\n",
            "Requirement already satisfied: numpy>=1.19 in /usr/local/lib/python3.10/dist-packages (from pyod) (1.23.5)\n",
            "Requirement already satisfied: numba>=0.51 in /usr/local/lib/python3.10/dist-packages (from pyod) (0.56.4)\n",
            "Requirement already satisfied: scipy>=1.5.1 in /usr/local/lib/python3.10/dist-packages (from pyod) (1.11.3)\n",
            "Requirement already satisfied: scikit_learn>=0.20.0 in /usr/local/lib/python3.10/dist-packages (from pyod) (1.2.2)\n",
            "Requirement already satisfied: six in /usr/local/lib/python3.10/dist-packages (from pyod) (1.16.0)\n",
            "Requirement already satisfied: llvmlite<0.40,>=0.39.0dev0 in /usr/local/lib/python3.10/dist-packages (from numba>=0.51->pyod) (0.39.1)\n",
            "Requirement already satisfied: setuptools in /usr/local/lib/python3.10/dist-packages (from numba>=0.51->pyod) (67.7.2)\n",
            "Requirement already satisfied: threadpoolctl>=2.0.0 in /usr/local/lib/python3.10/dist-packages (from scikit_learn>=0.20.0->pyod) (3.2.0)\n",
            "Requirement already satisfied: contourpy>=1.0.1 in /usr/local/lib/python3.10/dist-packages (from matplotlib->pyod) (1.1.1)\n",
            "Requirement already satisfied: cycler>=0.10 in /usr/local/lib/python3.10/dist-packages (from matplotlib->pyod) (0.12.1)\n",
            "Requirement already satisfied: fonttools>=4.22.0 in /usr/local/lib/python3.10/dist-packages (from matplotlib->pyod) (4.43.1)\n",
            "Requirement already satisfied: kiwisolver>=1.0.1 in /usr/local/lib/python3.10/dist-packages (from matplotlib->pyod) (1.4.5)\n",
            "Requirement already satisfied: packaging>=20.0 in /usr/local/lib/python3.10/dist-packages (from matplotlib->pyod) (23.2)\n",
            "Requirement already satisfied: pillow>=6.2.0 in /usr/local/lib/python3.10/dist-packages (from matplotlib->pyod) (9.4.0)\n",
            "Requirement already satisfied: pyparsing>=2.3.1 in /usr/local/lib/python3.10/dist-packages (from matplotlib->pyod) (3.1.1)\n",
            "Requirement already satisfied: python-dateutil>=2.7 in /usr/local/lib/python3.10/dist-packages (from matplotlib->pyod) (2.8.2)\n",
            "Building wheels for collected packages: pyod\n",
            "  Building wheel for pyod (setup.py) ... \u001b[?25l\u001b[?25hdone\n",
            "  Created wheel for pyod: filename=pyod-1.1.0-py3-none-any.whl size=185329 sha256=a8290373fbc3f028a03404351d0dccd8789559dfe2b118345d1d80665c37fb86\n",
            "  Stored in directory: /root/.cache/pip/wheels/36/8e/e2/e932956b10b843eb6be9eefa70b5c1bee7b561be14c423b136\n",
            "Successfully built pyod\n",
            "Installing collected packages: pyod\n",
            "Successfully installed pyod-1.1.0\n"
          ]
        }
      ]
    },
    {
      "cell_type": "code",
      "source": [
        "import pandas as pd\n",
        "from sklearn.linear_model import LinearRegression\n",
        "from sklearn.model_selection import train_test_split"
      ],
      "metadata": {
        "id": "zUGFApGXv3A4"
      },
      "execution_count": null,
      "outputs": []
    },
    {
      "cell_type": "markdown",
      "source": [
        "from pyod.models.ecod import ECOD\n",
        "\n",
        "clf=ECOD()\n",
        "\n",
        "clf.fit(X_train)"
      ],
      "metadata": {
        "id": "SGFsLXLy0vLC"
      }
    }
  ]
}