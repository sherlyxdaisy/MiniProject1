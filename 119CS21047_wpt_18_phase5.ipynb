{
  "cells": [
    {
      "cell_type": "markdown",
      "metadata": {
        "id": "view-in-github",
        "colab_type": "text"
      },
      "source": [
        "<a href=\"https://colab.research.google.com/github/sherlyxdaisy/MiniProject1/blob/main/119CS21047_wpt_18_phase5.ipynb\" target=\"_parent\"><img src=\"https://colab.research.google.com/assets/colab-badge.svg\" alt=\"Open In Colab\"/></a>"
      ]
    },
    {
      "cell_type": "code",
      "execution_count": null,
      "id": "3fae9163",
      "metadata": {
        "id": "3fae9163"
      },
      "outputs": [],
      "source": [
        "import pandas as pd\n",
        "import numpy as np\n",
        "import seaborn as sns\n",
        "import matplotlib.pyplot as plt\n",
        "import sklearn.cluster as cluster\n",
        "from sklearn.cluster import KMeans\n",
        "from sklearn.preprocessing import StandardScaler\n",
        "from sklearn.cluster import KMeans\n",
        "from sklearn.metrics import silhouette_samples, silhouette_score\n",
        "import warnings\n",
        "warnings.filterwarnings('ignore')\n",
        "sns.set(style=\"darkgrid\")\n",
        "%matplotlib inline"
      ]
    },
    {
      "cell_type": "code",
      "execution_count": null,
      "id": "2076efba",
      "metadata": {
        "id": "2076efba",
        "outputId": "6d497594-4c9b-472a-afe6-ccb966da8deb"
      },
      "outputs": [
        {
          "data": {
            "text/html": [
              "<div>\n",
              "<style scoped>\n",
              "    .dataframe tbody tr th:only-of-type {\n",
              "        vertical-align: middle;\n",
              "    }\n",
              "\n",
              "    .dataframe tbody tr th {\n",
              "        vertical-align: top;\n",
              "    }\n",
              "\n",
              "    .dataframe thead th {\n",
              "        text-align: right;\n",
              "    }\n",
              "</style>\n",
              "<table border=\"1\" class=\"dataframe\">\n",
              "  <thead>\n",
              "    <tr style=\"text-align: right;\">\n",
              "      <th></th>\n",
              "      <th>InvoiceNo</th>\n",
              "      <th>StockCode</th>\n",
              "      <th>Description</th>\n",
              "      <th>Quantity</th>\n",
              "      <th>InvoiceDate</th>\n",
              "      <th>UnitPrice</th>\n",
              "      <th>CustomerID</th>\n",
              "      <th>Country</th>\n",
              "    </tr>\n",
              "  </thead>\n",
              "  <tbody>\n",
              "    <tr>\n",
              "      <th>0</th>\n",
              "      <td>536365</td>\n",
              "      <td>85123A</td>\n",
              "      <td>WHITE HANGING HEART T-LIGHT HOLDER</td>\n",
              "      <td>6</td>\n",
              "      <td>2010-12-01 08:26:00</td>\n",
              "      <td>2.55</td>\n",
              "      <td>17850.0</td>\n",
              "      <td>United Kingdom</td>\n",
              "    </tr>\n",
              "    <tr>\n",
              "      <th>1</th>\n",
              "      <td>536365</td>\n",
              "      <td>71053</td>\n",
              "      <td>WHITE METAL LANTERN</td>\n",
              "      <td>6</td>\n",
              "      <td>2010-12-01 08:26:00</td>\n",
              "      <td>3.39</td>\n",
              "      <td>17850.0</td>\n",
              "      <td>United Kingdom</td>\n",
              "    </tr>\n",
              "    <tr>\n",
              "      <th>2</th>\n",
              "      <td>536365</td>\n",
              "      <td>84406B</td>\n",
              "      <td>CREAM CUPID HEARTS COAT HANGER</td>\n",
              "      <td>8</td>\n",
              "      <td>2010-12-01 08:26:00</td>\n",
              "      <td>2.75</td>\n",
              "      <td>17850.0</td>\n",
              "      <td>United Kingdom</td>\n",
              "    </tr>\n",
              "    <tr>\n",
              "      <th>3</th>\n",
              "      <td>536365</td>\n",
              "      <td>84029G</td>\n",
              "      <td>KNITTED UNION FLAG HOT WATER BOTTLE</td>\n",
              "      <td>6</td>\n",
              "      <td>2010-12-01 08:26:00</td>\n",
              "      <td>3.39</td>\n",
              "      <td>17850.0</td>\n",
              "      <td>United Kingdom</td>\n",
              "    </tr>\n",
              "    <tr>\n",
              "      <th>4</th>\n",
              "      <td>536365</td>\n",
              "      <td>84029E</td>\n",
              "      <td>RED WOOLLY HOTTIE WHITE HEART.</td>\n",
              "      <td>6</td>\n",
              "      <td>2010-12-01 08:26:00</td>\n",
              "      <td>3.39</td>\n",
              "      <td>17850.0</td>\n",
              "      <td>United Kingdom</td>\n",
              "    </tr>\n",
              "  </tbody>\n",
              "</table>\n",
              "</div>"
            ],
            "text/plain": [
              "  InvoiceNo StockCode                          Description  Quantity  \\\n",
              "0    536365    85123A   WHITE HANGING HEART T-LIGHT HOLDER         6   \n",
              "1    536365     71053                  WHITE METAL LANTERN         6   \n",
              "2    536365    84406B       CREAM CUPID HEARTS COAT HANGER         8   \n",
              "3    536365    84029G  KNITTED UNION FLAG HOT WATER BOTTLE         6   \n",
              "4    536365    84029E       RED WOOLLY HOTTIE WHITE HEART.         6   \n",
              "\n",
              "          InvoiceDate  UnitPrice  CustomerID         Country  \n",
              "0 2010-12-01 08:26:00       2.55     17850.0  United Kingdom  \n",
              "1 2010-12-01 08:26:00       3.39     17850.0  United Kingdom  \n",
              "2 2010-12-01 08:26:00       2.75     17850.0  United Kingdom  \n",
              "3 2010-12-01 08:26:00       3.39     17850.0  United Kingdom  \n",
              "4 2010-12-01 08:26:00       3.39     17850.0  United Kingdom  "
            ]
          },
          "execution_count": 2,
          "metadata": {},
          "output_type": "execute_result"
        }
      ],
      "source": [
        "df = pd.read_excel(\"E:/chrome_downloads/online+retail/Online_Retail.xlsx\")\n",
        "df.head()"
      ]
    },
    {
      "cell_type": "markdown",
      "id": "1c81a4d1",
      "metadata": {
        "id": "1c81a4d1"
      },
      "source": [
        "# Data preprocessing"
      ]
    },
    {
      "cell_type": "code",
      "execution_count": null,
      "id": "f086fde1",
      "metadata": {
        "scrolled": true,
        "id": "f086fde1",
        "outputId": "d810e234-9ae5-4763-b0b8-a5e3f77505e3"
      },
      "outputs": [
        {
          "data": {
            "text/plain": [
              "(541909, 8)"
            ]
          },
          "execution_count": 3,
          "metadata": {},
          "output_type": "execute_result"
        }
      ],
      "source": [
        "df.shape"
      ]
    },
    {
      "cell_type": "code",
      "execution_count": null,
      "id": "31f27955",
      "metadata": {
        "id": "31f27955",
        "outputId": "061d6c79-afaf-408a-f2be-918a0f60e3af"
      },
      "outputs": [
        {
          "name": "stdout",
          "output_type": "stream",
          "text": [
            "<class 'pandas.core.frame.DataFrame'>\n",
            "RangeIndex: 541909 entries, 0 to 541908\n",
            "Data columns (total 8 columns):\n",
            " #   Column       Non-Null Count   Dtype         \n",
            "---  ------       --------------   -----         \n",
            " 0   InvoiceNo    541909 non-null  object        \n",
            " 1   StockCode    541909 non-null  object        \n",
            " 2   Description  540455 non-null  object        \n",
            " 3   Quantity     541909 non-null  int64         \n",
            " 4   InvoiceDate  541909 non-null  datetime64[ns]\n",
            " 5   UnitPrice    541909 non-null  float64       \n",
            " 6   CustomerID   406829 non-null  float64       \n",
            " 7   Country      541909 non-null  object        \n",
            "dtypes: datetime64[ns](1), float64(2), int64(1), object(4)\n",
            "memory usage: 33.1+ MB\n"
          ]
        }
      ],
      "source": [
        "df.info()"
      ]
    },
    {
      "cell_type": "code",
      "execution_count": null,
      "id": "29a96302",
      "metadata": {
        "id": "29a96302",
        "outputId": "3d42c5f8-bb4a-4972-b303-48e257b6d21d"
      },
      "outputs": [
        {
          "data": {
            "text/html": [
              "<div>\n",
              "<style scoped>\n",
              "    .dataframe tbody tr th:only-of-type {\n",
              "        vertical-align: middle;\n",
              "    }\n",
              "\n",
              "    .dataframe tbody tr th {\n",
              "        vertical-align: top;\n",
              "    }\n",
              "\n",
              "    .dataframe thead th {\n",
              "        text-align: right;\n",
              "    }\n",
              "</style>\n",
              "<table border=\"1\" class=\"dataframe\">\n",
              "  <thead>\n",
              "    <tr style=\"text-align: right;\">\n",
              "      <th></th>\n",
              "      <th>Quantity</th>\n",
              "      <th>UnitPrice</th>\n",
              "      <th>CustomerID</th>\n",
              "    </tr>\n",
              "  </thead>\n",
              "  <tbody>\n",
              "    <tr>\n",
              "      <th>count</th>\n",
              "      <td>541909.000000</td>\n",
              "      <td>541909.000000</td>\n",
              "      <td>406829.000000</td>\n",
              "    </tr>\n",
              "    <tr>\n",
              "      <th>mean</th>\n",
              "      <td>9.552250</td>\n",
              "      <td>4.611114</td>\n",
              "      <td>15287.690570</td>\n",
              "    </tr>\n",
              "    <tr>\n",
              "      <th>std</th>\n",
              "      <td>218.081158</td>\n",
              "      <td>96.759853</td>\n",
              "      <td>1713.600303</td>\n",
              "    </tr>\n",
              "    <tr>\n",
              "      <th>min</th>\n",
              "      <td>-80995.000000</td>\n",
              "      <td>-11062.060000</td>\n",
              "      <td>12346.000000</td>\n",
              "    </tr>\n",
              "    <tr>\n",
              "      <th>25%</th>\n",
              "      <td>1.000000</td>\n",
              "      <td>1.250000</td>\n",
              "      <td>13953.000000</td>\n",
              "    </tr>\n",
              "    <tr>\n",
              "      <th>50%</th>\n",
              "      <td>3.000000</td>\n",
              "      <td>2.080000</td>\n",
              "      <td>15152.000000</td>\n",
              "    </tr>\n",
              "    <tr>\n",
              "      <th>75%</th>\n",
              "      <td>10.000000</td>\n",
              "      <td>4.130000</td>\n",
              "      <td>16791.000000</td>\n",
              "    </tr>\n",
              "    <tr>\n",
              "      <th>max</th>\n",
              "      <td>80995.000000</td>\n",
              "      <td>38970.000000</td>\n",
              "      <td>18287.000000</td>\n",
              "    </tr>\n",
              "  </tbody>\n",
              "</table>\n",
              "</div>"
            ],
            "text/plain": [
              "            Quantity      UnitPrice     CustomerID\n",
              "count  541909.000000  541909.000000  406829.000000\n",
              "mean        9.552250       4.611114   15287.690570\n",
              "std       218.081158      96.759853    1713.600303\n",
              "min    -80995.000000  -11062.060000   12346.000000\n",
              "25%         1.000000       1.250000   13953.000000\n",
              "50%         3.000000       2.080000   15152.000000\n",
              "75%        10.000000       4.130000   16791.000000\n",
              "max     80995.000000   38970.000000   18287.000000"
            ]
          },
          "execution_count": 5,
          "metadata": {},
          "output_type": "execute_result"
        }
      ],
      "source": [
        "df.describe()"
      ]
    },
    {
      "cell_type": "code",
      "execution_count": null,
      "id": "c4d27f98",
      "metadata": {
        "id": "c4d27f98",
        "outputId": "60a44c9a-600b-46ef-fccb-2a822e7c3eea"
      },
      "outputs": [
        {
          "data": {
            "text/html": [
              "<div>\n",
              "<style scoped>\n",
              "    .dataframe tbody tr th:only-of-type {\n",
              "        vertical-align: middle;\n",
              "    }\n",
              "\n",
              "    .dataframe tbody tr th {\n",
              "        vertical-align: top;\n",
              "    }\n",
              "\n",
              "    .dataframe thead th {\n",
              "        text-align: right;\n",
              "    }\n",
              "</style>\n",
              "<table border=\"1\" class=\"dataframe\">\n",
              "  <thead>\n",
              "    <tr style=\"text-align: right;\">\n",
              "      <th></th>\n",
              "      <th>InvoiceNo</th>\n",
              "      <th>StockCode</th>\n",
              "      <th>Description</th>\n",
              "      <th>Quantity</th>\n",
              "      <th>InvoiceDate</th>\n",
              "      <th>UnitPrice</th>\n",
              "      <th>CustomerID</th>\n",
              "      <th>Country</th>\n",
              "      <th>TotalPrice</th>\n",
              "      <th>Quantity_zscore</th>\n",
              "      <th>Month</th>\n",
              "      <th>Year</th>\n",
              "      <th>Target</th>\n",
              "    </tr>\n",
              "  </thead>\n",
              "  <tbody>\n",
              "    <tr>\n",
              "      <th>141</th>\n",
              "      <td>C536379</td>\n",
              "      <td>D</td>\n",
              "      <td>Discount</td>\n",
              "      <td>-1</td>\n",
              "      <td>2010-12-01 09:41:00</td>\n",
              "      <td>27.50</td>\n",
              "      <td>14527.0</td>\n",
              "      <td>United Kingdom</td>\n",
              "      <td>-27.50</td>\n",
              "      <td>-0.052520</td>\n",
              "      <td>12</td>\n",
              "      <td>2010</td>\n",
              "      <td>0</td>\n",
              "    </tr>\n",
              "    <tr>\n",
              "      <th>154</th>\n",
              "      <td>C536383</td>\n",
              "      <td>35004C</td>\n",
              "      <td>SET OF 3 COLOURED  FLYING DUCKS</td>\n",
              "      <td>-1</td>\n",
              "      <td>2010-12-01 09:49:00</td>\n",
              "      <td>4.65</td>\n",
              "      <td>15311.0</td>\n",
              "      <td>United Kingdom</td>\n",
              "      <td>-4.65</td>\n",
              "      <td>-0.052520</td>\n",
              "      <td>12</td>\n",
              "      <td>2010</td>\n",
              "      <td>0</td>\n",
              "    </tr>\n",
              "    <tr>\n",
              "      <th>235</th>\n",
              "      <td>C536391</td>\n",
              "      <td>22556</td>\n",
              "      <td>PLASTERS IN TIN CIRCUS PARADE</td>\n",
              "      <td>-12</td>\n",
              "      <td>2010-12-01 10:24:00</td>\n",
              "      <td>1.65</td>\n",
              "      <td>17548.0</td>\n",
              "      <td>United Kingdom</td>\n",
              "      <td>-19.80</td>\n",
              "      <td>-0.096751</td>\n",
              "      <td>12</td>\n",
              "      <td>2010</td>\n",
              "      <td>1</td>\n",
              "    </tr>\n",
              "    <tr>\n",
              "      <th>236</th>\n",
              "      <td>C536391</td>\n",
              "      <td>21984</td>\n",
              "      <td>PACK OF 12 PINK PAISLEY TISSUES</td>\n",
              "      <td>-24</td>\n",
              "      <td>2010-12-01 10:24:00</td>\n",
              "      <td>0.29</td>\n",
              "      <td>17548.0</td>\n",
              "      <td>United Kingdom</td>\n",
              "      <td>-6.96</td>\n",
              "      <td>-0.145003</td>\n",
              "      <td>12</td>\n",
              "      <td>2010</td>\n",
              "      <td>1</td>\n",
              "    </tr>\n",
              "    <tr>\n",
              "      <th>237</th>\n",
              "      <td>C536391</td>\n",
              "      <td>21983</td>\n",
              "      <td>PACK OF 12 BLUE PAISLEY TISSUES</td>\n",
              "      <td>-24</td>\n",
              "      <td>2010-12-01 10:24:00</td>\n",
              "      <td>0.29</td>\n",
              "      <td>17548.0</td>\n",
              "      <td>United Kingdom</td>\n",
              "      <td>-6.96</td>\n",
              "      <td>-0.145003</td>\n",
              "      <td>12</td>\n",
              "      <td>2010</td>\n",
              "      <td>1</td>\n",
              "    </tr>\n",
              "  </tbody>\n",
              "</table>\n",
              "</div>"
            ],
            "text/plain": [
              "    InvoiceNo StockCode                       Description  Quantity  \\\n",
              "141   C536379         D                          Discount        -1   \n",
              "154   C536383    35004C   SET OF 3 COLOURED  FLYING DUCKS        -1   \n",
              "235   C536391     22556    PLASTERS IN TIN CIRCUS PARADE        -12   \n",
              "236   C536391     21984  PACK OF 12 PINK PAISLEY TISSUES        -24   \n",
              "237   C536391     21983  PACK OF 12 BLUE PAISLEY TISSUES        -24   \n",
              "\n",
              "            InvoiceDate  UnitPrice  CustomerID         Country  TotalPrice  \\\n",
              "141 2010-12-01 09:41:00      27.50     14527.0  United Kingdom      -27.50   \n",
              "154 2010-12-01 09:49:00       4.65     15311.0  United Kingdom       -4.65   \n",
              "235 2010-12-01 10:24:00       1.65     17548.0  United Kingdom      -19.80   \n",
              "236 2010-12-01 10:24:00       0.29     17548.0  United Kingdom       -6.96   \n",
              "237 2010-12-01 10:24:00       0.29     17548.0  United Kingdom       -6.96   \n",
              "\n",
              "     Quantity_zscore  Month  Year  Target  \n",
              "141        -0.052520     12  2010       0  \n",
              "154        -0.052520     12  2010       0  \n",
              "235        -0.096751     12  2010       1  \n",
              "236        -0.145003     12  2010       1  \n",
              "237        -0.145003     12  2010       1  "
            ]
          },
          "execution_count": 31,
          "metadata": {},
          "output_type": "execute_result"
        }
      ],
      "source": [
        "cancelled = df[df['InvoiceNo'].astype(str).str.contains('C')]\n",
        "cancelled.head()"
      ]
    },
    {
      "cell_type": "code",
      "execution_count": null,
      "id": "54e2cd63",
      "metadata": {
        "id": "54e2cd63",
        "outputId": "ffb69e65-6bec-4979-81fd-87a83634abb0"
      },
      "outputs": [
        {
          "data": {
            "text/html": [
              "<div>\n",
              "<style scoped>\n",
              "    .dataframe tbody tr th:only-of-type {\n",
              "        vertical-align: middle;\n",
              "    }\n",
              "\n",
              "    .dataframe tbody tr th {\n",
              "        vertical-align: top;\n",
              "    }\n",
              "\n",
              "    .dataframe thead th {\n",
              "        text-align: right;\n",
              "    }\n",
              "</style>\n",
              "<table border=\"1\" class=\"dataframe\">\n",
              "  <thead>\n",
              "    <tr style=\"text-align: right;\">\n",
              "      <th></th>\n",
              "      <th>InvoiceNo</th>\n",
              "      <th>StockCode</th>\n",
              "      <th>Description</th>\n",
              "      <th>Quantity</th>\n",
              "      <th>InvoiceDate</th>\n",
              "      <th>UnitPrice</th>\n",
              "      <th>CustomerID</th>\n",
              "      <th>Country</th>\n",
              "      <th>TotalPrice</th>\n",
              "      <th>Quantity_zscore</th>\n",
              "      <th>Month</th>\n",
              "      <th>Year</th>\n",
              "      <th>Target</th>\n",
              "    </tr>\n",
              "  </thead>\n",
              "  <tbody>\n",
              "  </tbody>\n",
              "</table>\n",
              "</div>"
            ],
            "text/plain": [
              "Empty DataFrame\n",
              "Columns: [InvoiceNo, StockCode, Description, Quantity, InvoiceDate, UnitPrice, CustomerID, Country, TotalPrice, Quantity_zscore, Month, Year, Target]\n",
              "Index: []"
            ]
          },
          "execution_count": 32,
          "metadata": {},
          "output_type": "execute_result"
        }
      ],
      "source": [
        "cancelled[cancelled['Quantity']>0]"
      ]
    },
    {
      "cell_type": "code",
      "execution_count": null,
      "id": "9b8f4d09",
      "metadata": {
        "id": "9b8f4d09",
        "outputId": "7c99d7ec-3762-4707-bc96-31dc02583e7b"
      },
      "outputs": [
        {
          "name": "stdout",
          "output_type": "stream",
          "text": [
            "Number of cancelled transactions: 8905\n",
            "Total number of transaction with negative quantity: 8905\n"
          ]
        }
      ],
      "source": [
        "print(\"Number of cancelled transactions:\", len(cancelled))\n",
        "print(\"Total number of transaction with negative quantity:\", df[df['Quantity'] <= 0 ]['Quantity'].count())"
      ]
    },
    {
      "cell_type": "code",
      "execution_count": null,
      "id": "f82c010a",
      "metadata": {
        "id": "f82c010a",
        "outputId": "2569c6cb-897f-4152-ae8e-7c5d266125d0"
      },
      "outputs": [
        {
          "data": {
            "text/html": [
              "<div>\n",
              "<style scoped>\n",
              "    .dataframe tbody tr th:only-of-type {\n",
              "        vertical-align: middle;\n",
              "    }\n",
              "\n",
              "    .dataframe tbody tr th {\n",
              "        vertical-align: top;\n",
              "    }\n",
              "\n",
              "    .dataframe thead th {\n",
              "        text-align: right;\n",
              "    }\n",
              "</style>\n",
              "<table border=\"1\" class=\"dataframe\">\n",
              "  <thead>\n",
              "    <tr style=\"text-align: right;\">\n",
              "      <th></th>\n",
              "      <th>InvoiceNo</th>\n",
              "      <th>StockCode</th>\n",
              "      <th>Description</th>\n",
              "      <th>Quantity</th>\n",
              "      <th>InvoiceDate</th>\n",
              "      <th>UnitPrice</th>\n",
              "      <th>CustomerID</th>\n",
              "      <th>Country</th>\n",
              "      <th>TotalPrice</th>\n",
              "      <th>Quantity_zscore</th>\n",
              "      <th>Month</th>\n",
              "      <th>Year</th>\n",
              "      <th>Target</th>\n",
              "    </tr>\n",
              "  </thead>\n",
              "  <tbody>\n",
              "    <tr>\n",
              "      <th>9302</th>\n",
              "      <td>537197</td>\n",
              "      <td>22841</td>\n",
              "      <td>ROUND CAKE TIN VINTAGE GREEN</td>\n",
              "      <td>1</td>\n",
              "      <td>2010-12-05 14:02:00</td>\n",
              "      <td>0.0</td>\n",
              "      <td>12647.0</td>\n",
              "      <td>Germany</td>\n",
              "      <td>0.0</td>\n",
              "      <td>-0.044478</td>\n",
              "      <td>12</td>\n",
              "      <td>2010</td>\n",
              "      <td>0</td>\n",
              "    </tr>\n",
              "    <tr>\n",
              "      <th>33576</th>\n",
              "      <td>539263</td>\n",
              "      <td>22580</td>\n",
              "      <td>ADVENT CALENDAR GINGHAM SACK</td>\n",
              "      <td>4</td>\n",
              "      <td>2010-12-16 14:36:00</td>\n",
              "      <td>0.0</td>\n",
              "      <td>16560.0</td>\n",
              "      <td>United Kingdom</td>\n",
              "      <td>0.0</td>\n",
              "      <td>-0.032415</td>\n",
              "      <td>12</td>\n",
              "      <td>2010</td>\n",
              "      <td>1</td>\n",
              "    </tr>\n",
              "    <tr>\n",
              "      <th>40089</th>\n",
              "      <td>539722</td>\n",
              "      <td>22423</td>\n",
              "      <td>REGENCY CAKESTAND 3 TIER</td>\n",
              "      <td>10</td>\n",
              "      <td>2010-12-21 13:45:00</td>\n",
              "      <td>0.0</td>\n",
              "      <td>14911.0</td>\n",
              "      <td>EIRE</td>\n",
              "      <td>0.0</td>\n",
              "      <td>-0.008289</td>\n",
              "      <td>12</td>\n",
              "      <td>2010</td>\n",
              "      <td>1</td>\n",
              "    </tr>\n",
              "    <tr>\n",
              "      <th>47068</th>\n",
              "      <td>540372</td>\n",
              "      <td>22090</td>\n",
              "      <td>PAPER BUNTING RETROSPOT</td>\n",
              "      <td>24</td>\n",
              "      <td>2011-01-06 16:41:00</td>\n",
              "      <td>0.0</td>\n",
              "      <td>13081.0</td>\n",
              "      <td>United Kingdom</td>\n",
              "      <td>0.0</td>\n",
              "      <td>0.048006</td>\n",
              "      <td>1</td>\n",
              "      <td>2011</td>\n",
              "      <td>0</td>\n",
              "    </tr>\n",
              "    <tr>\n",
              "      <th>47070</th>\n",
              "      <td>540372</td>\n",
              "      <td>22553</td>\n",
              "      <td>PLASTERS IN TIN SKULLS</td>\n",
              "      <td>24</td>\n",
              "      <td>2011-01-06 16:41:00</td>\n",
              "      <td>0.0</td>\n",
              "      <td>13081.0</td>\n",
              "      <td>United Kingdom</td>\n",
              "      <td>0.0</td>\n",
              "      <td>0.048006</td>\n",
              "      <td>1</td>\n",
              "      <td>2011</td>\n",
              "      <td>1</td>\n",
              "    </tr>\n",
              "  </tbody>\n",
              "</table>\n",
              "</div>"
            ],
            "text/plain": [
              "      InvoiceNo StockCode                   Description  Quantity  \\\n",
              "9302     537197     22841  ROUND CAKE TIN VINTAGE GREEN         1   \n",
              "33576    539263     22580  ADVENT CALENDAR GINGHAM SACK         4   \n",
              "40089    539722     22423      REGENCY CAKESTAND 3 TIER        10   \n",
              "47068    540372     22090       PAPER BUNTING RETROSPOT        24   \n",
              "47070    540372     22553        PLASTERS IN TIN SKULLS        24   \n",
              "\n",
              "              InvoiceDate  UnitPrice  CustomerID         Country  TotalPrice  \\\n",
              "9302  2010-12-05 14:02:00        0.0     12647.0         Germany         0.0   \n",
              "33576 2010-12-16 14:36:00        0.0     16560.0  United Kingdom         0.0   \n",
              "40089 2010-12-21 13:45:00        0.0     14911.0            EIRE         0.0   \n",
              "47068 2011-01-06 16:41:00        0.0     13081.0  United Kingdom         0.0   \n",
              "47070 2011-01-06 16:41:00        0.0     13081.0  United Kingdom         0.0   \n",
              "\n",
              "       Quantity_zscore  Month  Year  Target  \n",
              "9302         -0.044478     12  2010       0  \n",
              "33576        -0.032415     12  2010       1  \n",
              "40089        -0.008289     12  2010       1  \n",
              "47068         0.048006      1  2011       0  \n",
              "47070         0.048006      1  2011       1  "
            ]
          },
          "execution_count": 34,
          "metadata": {},
          "output_type": "execute_result"
        }
      ],
      "source": [
        "df[df['UnitPrice'] == 0].head()"
      ]
    },
    {
      "cell_type": "code",
      "execution_count": null,
      "id": "26986d46",
      "metadata": {
        "id": "26986d46",
        "outputId": "c49a9273-9045-4fd1-d0d0-97b5fee648e8"
      },
      "outputs": [
        {
          "data": {
            "text/html": [
              "<div>\n",
              "<style scoped>\n",
              "    .dataframe tbody tr th:only-of-type {\n",
              "        vertical-align: middle;\n",
              "    }\n",
              "\n",
              "    .dataframe tbody tr th {\n",
              "        vertical-align: top;\n",
              "    }\n",
              "\n",
              "    .dataframe thead th {\n",
              "        text-align: right;\n",
              "    }\n",
              "</style>\n",
              "<table border=\"1\" class=\"dataframe\">\n",
              "  <thead>\n",
              "    <tr style=\"text-align: right;\">\n",
              "      <th></th>\n",
              "      <th>InvoiceNo</th>\n",
              "      <th>StockCode</th>\n",
              "      <th>Description</th>\n",
              "      <th>Quantity</th>\n",
              "      <th>InvoiceDate</th>\n",
              "      <th>UnitPrice</th>\n",
              "      <th>CustomerID</th>\n",
              "      <th>Country</th>\n",
              "      <th>TotalPrice</th>\n",
              "      <th>Quantity_zscore</th>\n",
              "      <th>Month</th>\n",
              "      <th>Year</th>\n",
              "      <th>Target</th>\n",
              "    </tr>\n",
              "  </thead>\n",
              "  <tbody>\n",
              "  </tbody>\n",
              "</table>\n",
              "</div>"
            ],
            "text/plain": [
              "Empty DataFrame\n",
              "Columns: [InvoiceNo, StockCode, Description, Quantity, InvoiceDate, UnitPrice, CustomerID, Country, TotalPrice, Quantity_zscore, Month, Year, Target]\n",
              "Index: []"
            ]
          },
          "execution_count": 35,
          "metadata": {},
          "output_type": "execute_result"
        }
      ],
      "source": [
        "df[df['UnitPrice'] < 0].head()"
      ]
    },
    {
      "cell_type": "code",
      "execution_count": null,
      "id": "7e640010",
      "metadata": {
        "id": "7e640010"
      },
      "outputs": [],
      "source": [
        "df = df.drop(['InvoiceNo'], axis=1)"
      ]
    },
    {
      "cell_type": "code",
      "execution_count": null,
      "id": "4dce0e0b",
      "metadata": {
        "id": "4dce0e0b"
      },
      "outputs": [],
      "source": [
        "data = df[(df['UnitPrice'] > 0) & (df['Quantity']>0)]"
      ]
    },
    {
      "cell_type": "code",
      "execution_count": null,
      "id": "23722273",
      "metadata": {
        "id": "23722273",
        "outputId": "e9dd90c5-6121-4482-a811-13d947afb6bd"
      },
      "outputs": [
        {
          "name": "stdout",
          "output_type": "stream",
          "text": [
            "Number of duplicated transactions: 2668\n"
          ]
        }
      ],
      "source": [
        "print(\"Number of duplicated transactions:\", len(data[data.duplicated()]))"
      ]
    },
    {
      "cell_type": "code",
      "execution_count": null,
      "id": "3f383299",
      "metadata": {
        "id": "3f383299"
      },
      "outputs": [],
      "source": [
        "data.drop_duplicates(inplace = True)"
      ]
    },
    {
      "cell_type": "code",
      "execution_count": null,
      "id": "3f296f80",
      "metadata": {
        "id": "3f296f80"
      },
      "outputs": [],
      "source": [
        " data = data.dropna(subset=['CustomerID'])"
      ]
    },
    {
      "cell_type": "code",
      "execution_count": null,
      "id": "e2194090",
      "metadata": {
        "id": "e2194090"
      },
      "outputs": [],
      "source": [
        "df = df.dropna()"
      ]
    },
    {
      "cell_type": "code",
      "execution_count": null,
      "id": "80f406cc",
      "metadata": {
        "id": "80f406cc"
      },
      "outputs": [],
      "source": [
        "df['InvoiceDate'] = pd.to_datetime(df['InvoiceDate'])"
      ]
    },
    {
      "cell_type": "code",
      "execution_count": null,
      "id": "cb08a7d8",
      "metadata": {
        "id": "cb08a7d8"
      },
      "outputs": [],
      "source": [
        "df['TotalPrice'] = df['Quantity'] * df['UnitPrice']"
      ]
    },
    {
      "cell_type": "code",
      "execution_count": null,
      "id": "67d0a077",
      "metadata": {
        "id": "67d0a077",
        "outputId": "c7b6ee32-2ef7-4f1d-bbcc-22ebac17d7e7"
      },
      "outputs": [
        {
          "name": "stdout",
          "output_type": "stream",
          "text": [
            "StockCode                  object\n",
            "Description                object\n",
            "Quantity                    int64\n",
            "InvoiceDate        datetime64[ns]\n",
            "UnitPrice                 float64\n",
            "CustomerID                float64\n",
            "Country                    object\n",
            "TotalPrice                float64\n",
            "Quantity_zscore           float64\n",
            "Month                       int64\n",
            "Year                        int64\n",
            "Target                      int32\n",
            "dtype: object\n"
          ]
        }
      ],
      "source": [
        "print(df.dtypes)"
      ]
    },
    {
      "cell_type": "code",
      "execution_count": null,
      "id": "f6cb7a78",
      "metadata": {
        "id": "f6cb7a78",
        "outputId": "d73a654c-5dee-40a1-c755-e4e3534fe7f2"
      },
      "outputs": [
        {
          "name": "stdout",
          "output_type": "stream",
          "text": [
            "<class 'pandas.core.frame.DataFrame'>\n",
            "Int64Index: 406829 entries, 0 to 541908\n",
            "Data columns (total 12 columns):\n",
            " #   Column           Non-Null Count   Dtype         \n",
            "---  ------           --------------   -----         \n",
            " 0   StockCode        371020 non-null  float64       \n",
            " 1   Description      0 non-null       float64       \n",
            " 2   Quantity         406829 non-null  int64         \n",
            " 3   InvoiceDate      406829 non-null  datetime64[ns]\n",
            " 4   UnitPrice        406829 non-null  float64       \n",
            " 5   CustomerID       406829 non-null  float64       \n",
            " 6   Country          0 non-null       float64       \n",
            " 7   TotalPrice       406829 non-null  float64       \n",
            " 8   Quantity_zscore  406829 non-null  float64       \n",
            " 9   Month            406829 non-null  int64         \n",
            " 10  Year             406829 non-null  int64         \n",
            " 11  Target           406829 non-null  int32         \n",
            "dtypes: datetime64[ns](1), float64(7), int32(1), int64(3)\n",
            "memory usage: 38.8 MB\n"
          ]
        }
      ],
      "source": [
        "df['StockCode'] = pd.to_numeric(df['StockCode'], errors='coerce')\n",
        "df['Description'] = pd.to_numeric(df['Description'], errors='coerce')\n",
        "df['Country'] = pd.to_numeric(df['Country'], errors='coerce')\n",
        "df.info()"
      ]
    },
    {
      "cell_type": "markdown",
      "id": "131d119f",
      "metadata": {
        "id": "131d119f"
      },
      "source": [
        "# Checking missing values"
      ]
    },
    {
      "cell_type": "code",
      "execution_count": null,
      "id": "187a5027",
      "metadata": {
        "id": "187a5027",
        "outputId": "2504edf0-037d-49ed-bf55-c046e35d1fe2"
      },
      "outputs": [
        {
          "data": {
            "text/plain": [
              "StockCode          0\n",
              "Description        0\n",
              "Quantity           0\n",
              "InvoiceDate        0\n",
              "UnitPrice          0\n",
              "CustomerID         0\n",
              "Country            0\n",
              "TotalPrice         0\n",
              "Quantity_zscore    0\n",
              "Month              0\n",
              "Year               0\n",
              "Target             0\n",
              "dtype: int64"
            ]
          },
          "execution_count": 48,
          "metadata": {},
          "output_type": "execute_result"
        }
      ],
      "source": [
        "df.isnull().sum()"
      ]
    },
    {
      "cell_type": "markdown",
      "id": "8172c69c",
      "metadata": {
        "id": "8172c69c"
      },
      "source": [
        "# Checking outliers and handle values"
      ]
    },
    {
      "cell_type": "code",
      "execution_count": null,
      "id": "b0958272",
      "metadata": {
        "id": "b0958272",
        "outputId": "6c0dc432-5167-47b9-cc36-08c39cb6a9e5"
      },
      "outputs": [
        {
          "data": {
            "image/png": "[encoded data removed]",
            "text/plain": [
              "<Figure size 640x480 with 1 Axes>"
            ]
          },
          "metadata": {},
          "output_type": "display_data"
        }
      ],
      "source": [
        "#box plot\n",
        "sns.boxplot(x='Quantity', data=df)\n",
        "plt.title('Box Plot of Quantity')\n",
        "plt.show()\n"
      ]
    },
    {
      "cell_type": "code",
      "execution_count": null,
      "id": "efc715ef",
      "metadata": {
        "id": "efc715ef",
        "outputId": "b83bc4fa-f1a0-4323-fb86-94232efedb29"
      },
      "outputs": [
        {
          "name": "stdout",
          "output_type": "stream",
          "text": [
            "       StockCode                          Description  Quantity  \\\n",
            "4287       84347  ROTATING SILVER ANGELS T-LIGHT HLDR     -9360   \n",
            "4850       84950       ASSORTED COLOUR T-LIGHT HOLDER      1824   \n",
            "4945       84077    WORLD WAR 2 GLIDERS ASSTD DESIGNS      2880   \n",
            "4946       21915               RED  HARMONICA IN BOX       1400   \n",
            "6365      17084R                ASSORTED INCENSE PACK      1440   \n",
            "...          ...                                  ...       ...   \n",
            "537883     21137             BLACK RECORD COVER FRAME       960   \n",
            "540070     22197                       POPCORN HOLDER      1500   \n",
            "540071     22197                       POPCORN HOLDER      1200   \n",
            "540421     23843          PAPER CRAFT , LITTLE BIRDIE     80995   \n",
            "540422     23843          PAPER CRAFT , LITTLE BIRDIE    -80995   \n",
            "\n",
            "               InvoiceDate  UnitPrice  CustomerID         Country  TotalPrice  \\\n",
            "4287   2010-12-02 14:23:00       0.03     15838.0  United Kingdom      -280.8   \n",
            "4850   2010-12-02 16:48:00       0.55     15299.0  United Kingdom      1003.2   \n",
            "4945   2010-12-02 17:38:00       0.18     16754.0  United Kingdom       518.4   \n",
            "4946   2010-12-02 17:38:00       1.06     16754.0  United Kingdom      1484.0   \n",
            "6365   2010-12-03 11:48:00       0.16     14156.0            EIRE       230.4   \n",
            "...                    ...        ...         ...             ...         ...   \n",
            "537883 2011-12-08 12:36:00       3.39     16210.0  United Kingdom      3254.4   \n",
            "540070 2011-12-08 18:45:00       0.72     17949.0  United Kingdom      1080.0   \n",
            "540071 2011-12-08 18:46:00       0.72     17949.0  United Kingdom       864.0   \n",
            "540421 2011-12-09 09:15:00       2.08     16446.0  United Kingdom    168469.6   \n",
            "540422 2011-12-09 09:27:00       2.08     16446.0  United Kingdom   -168469.6   \n",
            "\n",
            "        Quantity_zscore  Month  Year  Target  \n",
            "4287         -37.685254     12  2010       0  \n",
            "4850           7.285843     12  2010       1  \n",
            "4945          11.532041     12  2010       0  \n",
            "4946           5.580930     12  2010       1  \n",
            "6365           5.741771     12  2010       1  \n",
            "...                 ...    ...   ...     ...  \n",
            "537883         3.811681     12  2011       0  \n",
            "540070         5.983033     12  2011       1  \n",
            "540071         4.776726     12  2011       1  \n",
            "540421       325.634086     12  2011       1  \n",
            "540422      -325.731083     12  2011       1  \n",
            "\n",
            "[188 rows x 12 columns]\n"
          ]
        }
      ],
      "source": [
        "#z score\n",
        "from scipy.stats import zscore\n",
        "\n",
        "# Calculate the z-scores for the 'Quantity' column\n",
        "df['Quantity_zscore'] = zscore(df['Quantity'])\n",
        "\n",
        "# Identify and print rows with high z-scores\n",
        "outliers = df[df['Quantity_zscore'].abs() > 3]\n",
        "print(outliers)\n"
      ]
    },
    {
      "cell_type": "code",
      "execution_count": null,
      "id": "9ad18b75",
      "metadata": {
        "id": "9ad18b75",
        "outputId": "6615f2f7-ae2d-4634-8018-7d821995a044"
      },
      "outputs": [
        {
          "name": "stdout",
          "output_type": "stream",
          "text": [
            "       StockCode                       Description  Quantity  \\\n",
            "9          84879     ASSORTED COLOUR BIRD ORNAMENT        32   \n",
            "31         10002       INFLATABLE POLITICAL GLOBE         48   \n",
            "44         22492           MINI PAINT SET VINTAGE         36   \n",
            "46         22086   PAPER CHAIN KIT 50'S CHRISTMAS         80   \n",
            "65         21258        VICTORIAN SEWING BOX LARGE        32   \n",
            "...          ...                               ...       ...   \n",
            "541835     23581            JUMBO BAG PAISLEY PARK        40   \n",
            "541865     20725           LUNCH BAG RED RETROSPOT        40   \n",
            "541866     85038   6 CHOCOLATE LOVE HEART T-LIGHTS        36   \n",
            "541867     20832  RED FLOCK LOVE HEART PHOTO FRAME        72   \n",
            "541868     85038   6 CHOCOLATE LOVE HEART T-LIGHTS        48   \n",
            "\n",
            "               InvoiceDate  UnitPrice  CustomerID         Country  TotalPrice  \\\n",
            "9      2010-12-01 08:34:00       1.69     13047.0  United Kingdom       54.08   \n",
            "31     2010-12-01 08:45:00       0.85     12583.0          France       40.80   \n",
            "44     2010-12-01 08:45:00       0.65     12583.0          France       23.40   \n",
            "46     2010-12-01 09:00:00       2.55     13748.0  United Kingdom      204.00   \n",
            "65     2010-12-01 09:09:00      10.95     15100.0  United Kingdom      350.40   \n",
            "...                    ...        ...         ...             ...         ...   \n",
            "541835 2011-12-09 12:19:00       1.79     17581.0  United Kingdom       71.60   \n",
            "541865 2011-12-09 12:23:00       1.45     13777.0  United Kingdom       58.00   \n",
            "541866 2011-12-09 12:23:00       1.85     13777.0  United Kingdom       66.60   \n",
            "541867 2011-12-09 12:25:00       0.72     13777.0  United Kingdom       51.84   \n",
            "541868 2011-12-09 12:25:00       1.85     13777.0  United Kingdom       88.80   \n",
            "\n",
            "        Quantity_zscore  Month  Year  Target  \n",
            "9              0.080174     12  2010       1  \n",
            "31             0.144510     12  2010       0  \n",
            "44             0.096258     12  2010       1  \n",
            "46             0.273183     12  2010       1  \n",
            "65             0.080174     12  2010       1  \n",
            "...                 ...    ...   ...     ...  \n",
            "541835         0.112342     12  2011       0  \n",
            "541865         0.112342     12  2011       1  \n",
            "541866         0.096258     12  2011       1  \n",
            "541867         0.241015     12  2011       1  \n",
            "541868         0.144510     12  2011       0  \n",
            "\n",
            "[26682 rows x 12 columns]\n"
          ]
        }
      ],
      "source": [
        "# Calculate the IQR for the 'Quantity' column\n",
        "Q1 = df['Quantity'].quantile(0.25)\n",
        "Q3 = df['Quantity'].quantile(0.75)\n",
        "IQR = Q3 - Q1\n",
        "\n",
        "# Identify and print rows with values outside the IQR range\n",
        "outliers_iqr = df[(df['Quantity'] < (Q1 - 1.5 * IQR)) | (df['Quantity'] > (Q3 + 1.5 * IQR))]\n",
        "print(outliers_iqr)\n"
      ]
    },
    {
      "cell_type": "markdown",
      "id": "61e6aca3",
      "metadata": {
        "id": "61e6aca3"
      },
      "source": [
        "# EDA"
      ]
    },
    {
      "cell_type": "code",
      "execution_count": null,
      "id": "abd8917e",
      "metadata": {
        "id": "abd8917e",
        "outputId": "a769fdcb-62f2-4614-92ea-bad2f17adf71"
      },
      "outputs": [
        {
          "data": {
            "image/png": "[encoded data removed]",
            "text/plain": [
              "<Figure size 640x480 with 1 Axes>"
            ]
          },
          "metadata": {},
          "output_type": "display_data"
        }
      ],
      "source": [
        "sns.histplot(df['Quantity'], bins=20, kde=True)\n",
        "plt.title('Distribution of Quantity')\n",
        "plt.show()\n"
      ]
    },
    {
      "cell_type": "code",
      "execution_count": null,
      "id": "6ab212a6",
      "metadata": {
        "id": "6ab212a6",
        "outputId": "a12ccccc-68cf-4594-a92f-5861b4f0e940"
      },
      "outputs": [
        {
          "data": {
            "image/png": "[encoded data removed]",
            "text/plain": [
              "<Figure size 640x480 with 1 Axes>"
            ]
          },
          "metadata": {},
          "output_type": "display_data"
        }
      ],
      "source": [
        "sns.histplot(df['UnitPrice'], bins=20, kde=True)\n",
        "plt.title('Distribution of Unit Price')\n",
        "plt.show()"
      ]
    },
    {
      "cell_type": "code",
      "execution_count": null,
      "id": "beb42059",
      "metadata": {
        "id": "beb42059",
        "outputId": "07ab338d-23d1-4537-fb0e-41e133e7034d"
      },
      "outputs": [
        {
          "data": {
            "image/png": "[encoded data removed]",
            "text/plain": [
              "<Figure size 640x480 with 1 Axes>"
            ]
          },
          "metadata": {},
          "output_type": "display_data"
        }
      ],
      "source": [
        "sns.histplot(df['TotalPrice'], bins=20, kde=True)\n",
        "plt.title('Distribution of Total Price')\n",
        "plt.show()"
      ]
    },
    {
      "cell_type": "code",
      "execution_count": null,
      "id": "b3c01c61",
      "metadata": {
        "id": "b3c01c61",
        "outputId": "d9e409ac-bc47-4812-f57f-44cf48735cc3"
      },
      "outputs": [
        {
          "data": {
            "image/png": "[encoded data removed]",
            "text/plain": [
              "<Figure size 640x480 with 1 Axes>"
            ]
          },
          "metadata": {},
          "output_type": "display_data"
        }
      ],
      "source": [
        "# EDA: Visualize the relationship between variables\n",
        "sns.scatterplot(x='Quantity', y='TotalPrice', data=df)\n",
        "plt.title('Scatter Plot of Quantity vs Total Price')\n",
        "plt.show()"
      ]
    },
    {
      "cell_type": "code",
      "execution_count": null,
      "id": "2196e758",
      "metadata": {
        "id": "2196e758",
        "outputId": "4d7702db-341c-43eb-af09-82cf0b22476c"
      },
      "outputs": [
        {
          "data": {
            "image/png": "[encoded data removed]",
            "text/plain": [
              "<Figure size 1000x600 with 1 Axes>"
            ]
          },
          "metadata": {},
          "output_type": "display_data"
        }
      ],
      "source": [
        "# EDA: Explore categorical variables\n",
        "plt.figure(figsize=(10, 6))\n",
        "sns.countplot(y='Country', data=df)\n",
        "plt.title('Distribution of Orders by Country')\n",
        "plt.show()"
      ]
    },
    {
      "cell_type": "code",
      "execution_count": null,
      "id": "6770093c",
      "metadata": {
        "id": "6770093c",
        "outputId": "9d42729f-934d-46c2-af54-b9a2609a5462"
      },
      "outputs": [
        {
          "data": {
            "image/png": "[encoded data removed]",
            "text/plain": [
              "<Figure size 1000x600 with 1 Axes>"
            ]
          },
          "metadata": {},
          "output_type": "display_data"
        }
      ],
      "source": [
        "# Time-based analysis\n",
        "df['Month'] = df['InvoiceDate'].dt.month\n",
        "df['Year'] = df['InvoiceDate'].dt.year\n",
        "\n",
        "plt.figure(figsize=(10, 6))\n",
        "sns.countplot(x='Month', data=df)\n",
        "plt.title('Number of Orders by Month')\n",
        "plt.show()"
      ]
    },
    {
      "cell_type": "markdown",
      "id": "31abe932",
      "metadata": {
        "id": "31abe932"
      },
      "source": [
        "# Model Building: Perform Classification Task on provided Dataset, (Build Random Forest, )All Classifiers, Bagging"
      ]
    },
    {
      "cell_type": "code",
      "execution_count": null,
      "id": "e2327da9",
      "metadata": {
        "id": "e2327da9",
        "outputId": "76beaa9d-13b3-4de8-eb37-c9ac9f7a969b"
      },
      "outputs": [
        {
          "ename": "TypeError",
          "evalue": "The DType <class 'numpy.dtype[datetime64]'> could not be promoted by <class 'numpy.dtype[float64]'>. This means that no common DType exists for the given inputs. For example they cannot be stored in a single array unless the dtype is `object`. The full list of DTypes is: (<class 'numpy.dtype[float64]'>, <class 'numpy.dtype[float64]'>, <class 'numpy.dtype[int64]'>, <class 'numpy.dtype[datetime64]'>, <class 'numpy.dtype[float64]'>, <class 'numpy.dtype[float64]'>, <class 'numpy.dtype[float64]'>, <class 'numpy.dtype[float64]'>, <class 'numpy.dtype[float64]'>, <class 'numpy.dtype[int64]'>, <class 'numpy.dtype[int64]'>)",
          "output_type": "error",
          "traceback": [
            "\u001b[1;31m---------------------------------------------------------------------------\u001b[0m",
            "\u001b[1;31mTypeError\u001b[0m                                 Traceback (most recent call last)",
            "Cell \u001b[1;32mIn[75], line 16\u001b[0m\n\u001b[0;32m     14\u001b[0m \u001b[38;5;66;03m# Random Forest Classifier\u001b[39;00m\n\u001b[0;32m     15\u001b[0m rf_classifier \u001b[38;5;241m=\u001b[39m RandomForestClassifier(n_estimators\u001b[38;5;241m=\u001b[39m\u001b[38;5;241m100\u001b[39m, random_state\u001b[38;5;241m=\u001b[39m\u001b[38;5;241m42\u001b[39m)\n\u001b[1;32m---> 16\u001b[0m rf_classifier\u001b[38;5;241m.\u001b[39mfit(X_train, y_train)\n\u001b[0;32m     17\u001b[0m y_pred_rf \u001b[38;5;241m=\u001b[39m rf_classifier\u001b[38;5;241m.\u001b[39mpredict(X_test)\n\u001b[0;32m     19\u001b[0m \u001b[38;5;66;03m# Bagging Classifier (using Decision Tree as the base classifier)\u001b[39;00m\n",
            "File \u001b[1;32mE:\\Anaconda\\Lib\\site-packages\\sklearn\\base.py:1151\u001b[0m, in \u001b[0;36m_fit_context.<locals>.decorator.<locals>.wrapper\u001b[1;34m(estimator, *args, **kwargs)\u001b[0m\n\u001b[0;32m   1144\u001b[0m     estimator\u001b[38;5;241m.\u001b[39m_validate_params()\n\u001b[0;32m   1146\u001b[0m \u001b[38;5;28;01mwith\u001b[39;00m config_context(\n\u001b[0;32m   1147\u001b[0m     skip_parameter_validation\u001b[38;5;241m=\u001b[39m(\n\u001b[0;32m   1148\u001b[0m         prefer_skip_nested_validation \u001b[38;5;129;01mor\u001b[39;00m global_skip_validation\n\u001b[0;32m   1149\u001b[0m     )\n\u001b[0;32m   1150\u001b[0m ):\n\u001b[1;32m-> 1151\u001b[0m     \u001b[38;5;28;01mreturn\u001b[39;00m fit_method(estimator, \u001b[38;5;241m*\u001b[39margs, \u001b[38;5;241m*\u001b[39m\u001b[38;5;241m*\u001b[39mkwargs)\n",
            "File \u001b[1;32mE:\\Anaconda\\Lib\\site-packages\\sklearn\\ensemble\\_forest.py:348\u001b[0m, in \u001b[0;36mBaseForest.fit\u001b[1;34m(self, X, y, sample_weight)\u001b[0m\n\u001b[0;32m    346\u001b[0m \u001b[38;5;28;01mif\u001b[39;00m issparse(y):\n\u001b[0;32m    347\u001b[0m     \u001b[38;5;28;01mraise\u001b[39;00m \u001b[38;5;167;01mValueError\u001b[39;00m(\u001b[38;5;124m\"\u001b[39m\u001b[38;5;124msparse multilabel-indicator for y is not supported.\u001b[39m\u001b[38;5;124m\"\u001b[39m)\n\u001b[1;32m--> 348\u001b[0m X, y \u001b[38;5;241m=\u001b[39m \u001b[38;5;28mself\u001b[39m\u001b[38;5;241m.\u001b[39m_validate_data(\n\u001b[0;32m    349\u001b[0m     X, y, multi_output\u001b[38;5;241m=\u001b[39m\u001b[38;5;28;01mTrue\u001b[39;00m, accept_sparse\u001b[38;5;241m=\u001b[39m\u001b[38;5;124m\"\u001b[39m\u001b[38;5;124mcsc\u001b[39m\u001b[38;5;124m\"\u001b[39m, dtype\u001b[38;5;241m=\u001b[39mDTYPE\n\u001b[0;32m    350\u001b[0m )\n\u001b[0;32m    351\u001b[0m \u001b[38;5;28;01mif\u001b[39;00m sample_weight \u001b[38;5;129;01mis\u001b[39;00m \u001b[38;5;129;01mnot\u001b[39;00m \u001b[38;5;28;01mNone\u001b[39;00m:\n\u001b[0;32m    352\u001b[0m     sample_weight \u001b[38;5;241m=\u001b[39m _check_sample_weight(sample_weight, X)\n",
            "File \u001b[1;32mE:\\Anaconda\\Lib\\site-packages\\sklearn\\base.py:621\u001b[0m, in \u001b[0;36mBaseEstimator._validate_data\u001b[1;34m(self, X, y, reset, validate_separately, cast_to_ndarray, **check_params)\u001b[0m\n\u001b[0;32m    619\u001b[0m         y \u001b[38;5;241m=\u001b[39m check_array(y, input_name\u001b[38;5;241m=\u001b[39m\u001b[38;5;124m\"\u001b[39m\u001b[38;5;124my\u001b[39m\u001b[38;5;124m\"\u001b[39m, \u001b[38;5;241m*\u001b[39m\u001b[38;5;241m*\u001b[39mcheck_y_params)\n\u001b[0;32m    620\u001b[0m     \u001b[38;5;28;01melse\u001b[39;00m:\n\u001b[1;32m--> 621\u001b[0m         X, y \u001b[38;5;241m=\u001b[39m check_X_y(X, y, \u001b[38;5;241m*\u001b[39m\u001b[38;5;241m*\u001b[39mcheck_params)\n\u001b[0;32m    622\u001b[0m     out \u001b[38;5;241m=\u001b[39m X, y\n\u001b[0;32m    624\u001b[0m \u001b[38;5;28;01mif\u001b[39;00m \u001b[38;5;129;01mnot\u001b[39;00m no_val_X \u001b[38;5;129;01mand\u001b[39;00m check_params\u001b[38;5;241m.\u001b[39mget(\u001b[38;5;124m\"\u001b[39m\u001b[38;5;124mensure_2d\u001b[39m\u001b[38;5;124m\"\u001b[39m, \u001b[38;5;28;01mTrue\u001b[39;00m):\n",
            "File \u001b[1;32mE:\\Anaconda\\Lib\\site-packages\\sklearn\\utils\\validation.py:1147\u001b[0m, in \u001b[0;36mcheck_X_y\u001b[1;34m(X, y, accept_sparse, accept_large_sparse, dtype, order, copy, force_all_finite, ensure_2d, allow_nd, multi_output, ensure_min_samples, ensure_min_features, y_numeric, estimator)\u001b[0m\n\u001b[0;32m   1142\u001b[0m         estimator_name \u001b[38;5;241m=\u001b[39m _check_estimator_name(estimator)\n\u001b[0;32m   1143\u001b[0m     \u001b[38;5;28;01mraise\u001b[39;00m \u001b[38;5;167;01mValueError\u001b[39;00m(\n\u001b[0;32m   1144\u001b[0m         \u001b[38;5;124mf\u001b[39m\u001b[38;5;124m\"\u001b[39m\u001b[38;5;132;01m{\u001b[39;00mestimator_name\u001b[38;5;132;01m}\u001b[39;00m\u001b[38;5;124m requires y to be passed, but the target y is None\u001b[39m\u001b[38;5;124m\"\u001b[39m\n\u001b[0;32m   1145\u001b[0m     )\n\u001b[1;32m-> 1147\u001b[0m X \u001b[38;5;241m=\u001b[39m check_array(\n\u001b[0;32m   1148\u001b[0m     X,\n\u001b[0;32m   1149\u001b[0m     accept_sparse\u001b[38;5;241m=\u001b[39maccept_sparse,\n\u001b[0;32m   1150\u001b[0m     accept_large_sparse\u001b[38;5;241m=\u001b[39maccept_large_sparse,\n\u001b[0;32m   1151\u001b[0m     dtype\u001b[38;5;241m=\u001b[39mdtype,\n\u001b[0;32m   1152\u001b[0m     order\u001b[38;5;241m=\u001b[39morder,\n\u001b[0;32m   1153\u001b[0m     copy\u001b[38;5;241m=\u001b[39mcopy,\n\u001b[0;32m   1154\u001b[0m     force_all_finite\u001b[38;5;241m=\u001b[39mforce_all_finite,\n\u001b[0;32m   1155\u001b[0m     ensure_2d\u001b[38;5;241m=\u001b[39mensure_2d,\n\u001b[0;32m   1156\u001b[0m     allow_nd\u001b[38;5;241m=\u001b[39mallow_nd,\n\u001b[0;32m   1157\u001b[0m     ensure_min_samples\u001b[38;5;241m=\u001b[39mensure_min_samples,\n\u001b[0;32m   1158\u001b[0m     ensure_min_features\u001b[38;5;241m=\u001b[39mensure_min_features,\n\u001b[0;32m   1159\u001b[0m     estimator\u001b[38;5;241m=\u001b[39mestimator,\n\u001b[0;32m   1160\u001b[0m     input_name\u001b[38;5;241m=\u001b[39m\u001b[38;5;124m\"\u001b[39m\u001b[38;5;124mX\u001b[39m\u001b[38;5;124m\"\u001b[39m,\n\u001b[0;32m   1161\u001b[0m )\n\u001b[0;32m   1163\u001b[0m y \u001b[38;5;241m=\u001b[39m _check_y(y, multi_output\u001b[38;5;241m=\u001b[39mmulti_output, y_numeric\u001b[38;5;241m=\u001b[39my_numeric, estimator\u001b[38;5;241m=\u001b[39mestimator)\n\u001b[0;32m   1165\u001b[0m check_consistent_length(X, y)\n",
            "File \u001b[1;32mE:\\Anaconda\\Lib\\site-packages\\sklearn\\utils\\validation.py:797\u001b[0m, in \u001b[0;36mcheck_array\u001b[1;34m(array, accept_sparse, accept_large_sparse, dtype, order, copy, force_all_finite, ensure_2d, allow_nd, ensure_min_samples, ensure_min_features, estimator, input_name)\u001b[0m\n\u001b[0;32m    793\u001b[0m pandas_requires_conversion \u001b[38;5;241m=\u001b[39m \u001b[38;5;28many\u001b[39m(\n\u001b[0;32m    794\u001b[0m     _pandas_dtype_needs_early_conversion(i) \u001b[38;5;28;01mfor\u001b[39;00m i \u001b[38;5;129;01min\u001b[39;00m dtypes_orig\n\u001b[0;32m    795\u001b[0m )\n\u001b[0;32m    796\u001b[0m \u001b[38;5;28;01mif\u001b[39;00m \u001b[38;5;28mall\u001b[39m(\u001b[38;5;28misinstance\u001b[39m(dtype_iter, np\u001b[38;5;241m.\u001b[39mdtype) \u001b[38;5;28;01mfor\u001b[39;00m dtype_iter \u001b[38;5;129;01min\u001b[39;00m dtypes_orig):\n\u001b[1;32m--> 797\u001b[0m     dtype_orig \u001b[38;5;241m=\u001b[39m np\u001b[38;5;241m.\u001b[39mresult_type(\u001b[38;5;241m*\u001b[39mdtypes_orig)\n\u001b[0;32m    798\u001b[0m \u001b[38;5;28;01melif\u001b[39;00m pandas_requires_conversion \u001b[38;5;129;01mand\u001b[39;00m \u001b[38;5;28many\u001b[39m(d \u001b[38;5;241m==\u001b[39m \u001b[38;5;28mobject\u001b[39m \u001b[38;5;28;01mfor\u001b[39;00m d \u001b[38;5;129;01min\u001b[39;00m dtypes_orig):\n\u001b[0;32m    799\u001b[0m     \u001b[38;5;66;03m# Force object if any of the dtypes is an object\u001b[39;00m\n\u001b[0;32m    800\u001b[0m     dtype_orig \u001b[38;5;241m=\u001b[39m \u001b[38;5;28mobject\u001b[39m\n",
            "File \u001b[1;32m<__array_function__ internals>:200\u001b[0m, in \u001b[0;36mresult_type\u001b[1;34m(*args, **kwargs)\u001b[0m\n",
            "\u001b[1;31mTypeError\u001b[0m: The DType <class 'numpy.dtype[datetime64]'> could not be promoted by <class 'numpy.dtype[float64]'>. This means that no common DType exists for the given inputs. For example they cannot be stored in a single array unless the dtype is `object`. The full list of DTypes is: (<class 'numpy.dtype[float64]'>, <class 'numpy.dtype[float64]'>, <class 'numpy.dtype[int64]'>, <class 'numpy.dtype[datetime64]'>, <class 'numpy.dtype[float64]'>, <class 'numpy.dtype[float64]'>, <class 'numpy.dtype[float64]'>, <class 'numpy.dtype[float64]'>, <class 'numpy.dtype[float64]'>, <class 'numpy.dtype[int64]'>, <class 'numpy.dtype[int64]'>)"
          ]
        }
      ],
      "source": [
        "import numpy as np\n",
        "\n",
        "# Creating a hypothetical binary target variable 'Target'\n",
        "np.random.seed(42)  # for reproducibility\n",
        "df['Target'] = np.random.choice([0, 1], size=len(df))\n",
        "\n",
        "# Assuming 'Target' is the target variable\n",
        "X = df.drop(['Target'], axis=1)  # Features\n",
        "y = df['Target']  # Target\n",
        "\n",
        "# Split the data into training and testing sets\n",
        "X_train, X_test, y_train, y_test = train_test_split(X, y, test_size=0.2, random_state=42)\n",
        "\n",
        "# Random Forest Classifier\n",
        "rf_classifier = RandomForestClassifier(n_estimators=100, random_state=42)\n",
        "rf_classifier.fit(X_train, y_train)\n",
        "y_pred_rf = rf_classifier.predict(X_test)\n",
        "\n",
        "# Bagging Classifier (using Decision Tree as the base classifier)\n",
        "base_classifier = DecisionTreeClassifier()\n",
        "bagging_classifier = BaggingClassifier(base_classifier, n_estimators=50, random_state=42)\n",
        "bagging_classifier.fit(X_train, y_train)\n",
        "y_pred_bagging = bagging_classifier.predict(X_test)\n",
        "\n",
        "# Logistic Regression\n",
        "logreg = LogisticRegression()\n",
        "logreg.fit(X_train, y_train)\n",
        "y_pred_logreg = logreg.predict(X_test)\n",
        "\n",
        "# Support Vector Machine (SVM)\n",
        "svm_classifier = SVC()\n",
        "svm_classifier.fit(X_train, y_train)\n",
        "y_pred_svm = svm_classifier.predict(X_test)\n",
        "\n",
        "# Evaluate models\n",
        "evaluate_model(y_test, y_pred_rf, \"Random Forest\")\n",
        "evaluate_model(y_test, y_pred_bagging, \"Bagging\")\n",
        "evaluate_model(y_test, y_pred_logreg, \"Logistic Regression\")\n",
        "evaluate_model(y_test, y_pred_svm, \"Support Vector Machine (SVM)\")\n"
      ]
    },
    {
      "cell_type": "code",
      "execution_count": null,
      "id": "ba499a67",
      "metadata": {
        "id": "ba499a67"
      },
      "outputs": [],
      "source": []
    }
  ],
  "metadata": {
    "kernelspec": {
      "display_name": "Python 3 (ipykernel)",
      "language": "python",
      "name": "python3"
    },
    "language_info": {
      "codemirror_mode": {
        "name": "ipython",
        "version": 3
      },
      "file_extension": ".py",
      "mimetype": "text/x-python",
      "name": "python",
      "nbconvert_exporter": "python",
      "pygments_lexer": "ipython3",
      "version": "3.11.4"
    },
    "colab": {
      "provenance": [],
      "include_colab_link": true
    }
  },
  "nbformat": 4,
  "nbformat_minor": 5
}