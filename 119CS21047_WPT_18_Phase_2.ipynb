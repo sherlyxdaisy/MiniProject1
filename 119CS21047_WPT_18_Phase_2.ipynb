{
  "nbformat": 4,
  "nbformat_minor": 0,
  "metadata": {
    "colab": {
      "provenance": []
    },
    "kernelspec": {
      "name": "python3",
      "display_name": "Python 3"
    },
    "language_info": {
      "name": "python"
    }
  },
  "cells": [
    {
      "cell_type": "code",
      "source": [
        "import pandas as pd"
      ],
      "metadata": {
        "id": "vjzQkV3wMfP9"
      },
      "execution_count": 5,
      "outputs": []
    },
    {
      "cell_type": "code",
      "source": [
        "from google.colab import files\n",
        "uploaded=files.upload()"
      ],
      "metadata": {
        "colab": {
          "base_uri": "https://localhost:8080/",
          "height": 73
        },
        "id": "uf4UT_l8Mkyp",
        "outputId": "920832b0-762a-4939-e6d9-30212d4af6bb"
      },
      "execution_count": 3,
      "outputs": [
        {
          "output_type": "display_data",
          "data": {
            "text/plain": [
              "<IPython.core.display.HTML object>"
            ],
            "text/html": [
              "\n",
              "     <input type=\"file\" id=\"files-57025eea-cde7-48fc-a5f7-0db2bf9d3394\" name=\"files[]\" multiple disabled\n",
              "        style=\"border:none\" />\n",
              "     <output id=\"result-57025eea-cde7-48fc-a5f7-0db2bf9d3394\">\n",
              "      Upload widget is only available when the cell has been executed in the\n",
              "      current browser session. Please rerun this cell to enable.\n",
              "      </output>\n",
              "      <script>// Copyright 2017 Google LLC\n",
              "//\n",
              "// Licensed under the Apache License, Version 2.0 (the \"License\");\n",
              "// you may not use this file except in compliance with the License.\n",
              "// You may obtain a copy of the License at\n",
              "//\n",
              "//      http://www.apache.org/licenses/LICENSE-2.0\n",
              "//\n",
              "// Unless required by applicable law or agreed to in writing, software\n",
              "// distributed under the License is distributed on an \"AS IS\" BASIS,\n",
              "// WITHOUT WARRANTIES OR CONDITIONS OF ANY KIND, either express or implied.\n",
              "// See the License for the specific language governing permissions and\n",
              "// limitations under the License.\n",
              "\n",
              "/**\n",
              " * @fileoverview Helpers for google.colab Python module.\n",
              " */\n",
              "(function(scope) {\n",
              "function span(text, styleAttributes = {}) {\n",
              "  const element = document.createElement('span');\n",
              "  element.textContent = text;\n",
              "  for (const key of Object.keys(styleAttributes)) {\n",
              "    element.style[key] = styleAttributes[key];\n",
              "  }\n",
              "  return element;\n",
              "}\n",
              "\n",
              "// Max number of bytes which will be uploaded at a time.\n",
              "const MAX_PAYLOAD_SIZE = 100 * 1024;\n",
              "\n",
              "function _uploadFiles(inputId, outputId) {\n",
              "  const steps = uploadFilesStep(inputId, outputId);\n",
              "  const outputElement = document.getElementById(outputId);\n",
              "  // Cache steps on the outputElement to make it available for the next call\n",
              "  // to uploadFilesContinue from Python.\n",
              "  outputElement.steps = steps;\n",
              "\n",
              "  return _uploadFilesContinue(outputId);\n",
              "}\n",
              "\n",
              "// This is roughly an async generator (not supported in the browser yet),\n",
              "// where there are multiple asynchronous steps and the Python side is going\n",
              "// to poll for completion of each step.\n",
              "// This uses a Promise to block the python side on completion of each step,\n",
              "// then passes the result of the previous step as the input to the next step.\n",
              "function _uploadFilesContinue(outputId) {\n",
              "  const outputElement = document.getElementById(outputId);\n",
              "  const steps = outputElement.steps;\n",
              "\n",
              "  const next = steps.next(outputElement.lastPromiseValue);\n",
              "  return Promise.resolve(next.value.promise).then((value) => {\n",
              "    // Cache the last promise value to make it available to the next\n",
              "    // step of the generator.\n",
              "    outputElement.lastPromiseValue = value;\n",
              "    return next.value.response;\n",
              "  });\n",
              "}\n",
              "\n",
              "/**\n",
              " * Generator function which is called between each async step of the upload\n",
              " * process.\n",
              " * @param {string} inputId Element ID of the input file picker element.\n",
              " * @param {string} outputId Element ID of the output display.\n",
              " * @return {!Iterable<!Object>} Iterable of next steps.\n",
              " */\n",
              "function* uploadFilesStep(inputId, outputId) {\n",
              "  const inputElement = document.getElementById(inputId);\n",
              "  inputElement.disabled = false;\n",
              "\n",
              "  const outputElement = document.getElementById(outputId);\n",
              "  outputElement.innerHTML = '';\n",
              "\n",
              "  const pickedPromise = new Promise((resolve) => {\n",
              "    inputElement.addEventListener('change', (e) => {\n",
              "      resolve(e.target.files);\n",
              "    });\n",
              "  });\n",
              "\n",
              "  const cancel = document.createElement('button');\n",
              "  inputElement.parentElement.appendChild(cancel);\n",
              "  cancel.textContent = 'Cancel upload';\n",
              "  const cancelPromise = new Promise((resolve) => {\n",
              "    cancel.onclick = () => {\n",
              "      resolve(null);\n",
              "    };\n",
              "  });\n",
              "\n",
              "  // Wait for the user to pick the files.\n",
              "  const files = yield {\n",
              "    promise: Promise.race([pickedPromise, cancelPromise]),\n",
              "    response: {\n",
              "      action: 'starting',\n",
              "    }\n",
              "  };\n",
              "\n",
              "  cancel.remove();\n",
              "\n",
              "  // Disable the input element since further picks are not allowed.\n",
              "  inputElement.disabled = true;\n",
              "\n",
              "  if (!files) {\n",
              "    return {\n",
              "      response: {\n",
              "        action: 'complete',\n",
              "      }\n",
              "    };\n",
              "  }\n",
              "\n",
              "  for (const file of files) {\n",
              "    const li = document.createElement('li');\n",
              "    li.append(span(file.name, {fontWeight: 'bold'}));\n",
              "    li.append(span(\n",
              "        `(${file.type || 'n/a'}) - ${file.size} bytes, ` +\n",
              "        `last modified: ${\n",
              "            file.lastModifiedDate ? file.lastModifiedDate.toLocaleDateString() :\n",
              "                                    'n/a'} - `));\n",
              "    const percent = span('0% done');\n",
              "    li.appendChild(percent);\n",
              "\n",
              "    outputElement.appendChild(li);\n",
              "\n",
              "    const fileDataPromise = new Promise((resolve) => {\n",
              "      const reader = new FileReader();\n",
              "      reader.onload = (e) => {\n",
              "        resolve(e.target.result);\n",
              "      };\n",
              "      reader.readAsArrayBuffer(file);\n",
              "    });\n",
              "    // Wait for the data to be ready.\n",
              "    let fileData = yield {\n",
              "      promise: fileDataPromise,\n",
              "      response: {\n",
              "        action: 'continue',\n",
              "      }\n",
              "    };\n",
              "\n",
              "    // Use a chunked sending to avoid message size limits. See b/62115660.\n",
              "    let position = 0;\n",
              "    do {\n",
              "      const length = Math.min(fileData.byteLength - position, MAX_PAYLOAD_SIZE);\n",
              "      const chunk = new Uint8Array(fileData, position, length);\n",
              "      position += length;\n",
              "\n",
              "      const base64 = btoa(String.fromCharCode.apply(null, chunk));\n",
              "      yield {\n",
              "        response: {\n",
              "          action: 'append',\n",
              "          file: file.name,\n",
              "          data: base64,\n",
              "        },\n",
              "      };\n",
              "\n",
              "      let percentDone = fileData.byteLength === 0 ?\n",
              "          100 :\n",
              "          Math.round((position / fileData.byteLength) * 100);\n",
              "      percent.textContent = `${percentDone}% done`;\n",
              "\n",
              "    } while (position < fileData.byteLength);\n",
              "  }\n",
              "\n",
              "  // All done.\n",
              "  yield {\n",
              "    response: {\n",
              "      action: 'complete',\n",
              "    }\n",
              "  };\n",
              "}\n",
              "\n",
              "scope.google = scope.google || {};\n",
              "scope.google.colab = scope.google.colab || {};\n",
              "scope.google.colab._files = {\n",
              "  _uploadFiles,\n",
              "  _uploadFilesContinue,\n",
              "};\n",
              "})(self);\n",
              "</script> "
            ]
          },
          "metadata": {}
        },
        {
          "output_type": "stream",
          "name": "stdout",
          "text": [
            "Saving online_retail_II.xlsx to online_retail_II.xlsx\n"
          ]
        }
      ]
    },
    {
      "cell_type": "code",
      "source": [
        "df=pd.read_excel('online_retail_II.xlsx')\n",
        "df"
      ],
      "metadata": {
        "colab": {
          "base_uri": "https://localhost:8080/",
          "height": 423
        },
        "id": "i_vIVIRgMlO-",
        "outputId": "220eb76d-f2a6-44e0-a25d-81aa43ef8383"
      },
      "execution_count": 4,
      "outputs": [
        {
          "output_type": "execute_result",
          "data": {
            "text/plain": [
              "       Invoice StockCode                          Description  Quantity  \\\n",
              "0       489434     85048  15CM CHRISTMAS GLASS BALL 20 LIGHTS        12   \n",
              "1       489434    79323P                   PINK CHERRY LIGHTS        12   \n",
              "2       489434    79323W                  WHITE CHERRY LIGHTS        12   \n",
              "3       489434     22041         RECORD FRAME 7\" SINGLE SIZE         48   \n",
              "4       489434     21232       STRAWBERRY CERAMIC TRINKET BOX        24   \n",
              "...        ...       ...                                  ...       ...   \n",
              "525456  538171     22271                 FELTCRAFT DOLL ROSIE         2   \n",
              "525457  538171     22750         FELTCRAFT PRINCESS LOLA DOLL         1   \n",
              "525458  538171     22751       FELTCRAFT PRINCESS OLIVIA DOLL         1   \n",
              "525459  538171     20970   PINK FLORAL FELTCRAFT SHOULDER BAG         2   \n",
              "525460  538171     21931               JUMBO STORAGE BAG SUKI         2   \n",
              "\n",
              "               InvoiceDate  Price  Customer ID         Country  \n",
              "0      2009-12-01 07:45:00   6.95      13085.0  United Kingdom  \n",
              "1      2009-12-01 07:45:00   6.75      13085.0  United Kingdom  \n",
              "2      2009-12-01 07:45:00   6.75      13085.0  United Kingdom  \n",
              "3      2009-12-01 07:45:00   2.10      13085.0  United Kingdom  \n",
              "4      2009-12-01 07:45:00   1.25      13085.0  United Kingdom  \n",
              "...                    ...    ...          ...             ...  \n",
              "525456 2010-12-09 20:01:00   2.95      17530.0  United Kingdom  \n",
              "525457 2010-12-09 20:01:00   3.75      17530.0  United Kingdom  \n",
              "525458 2010-12-09 20:01:00   3.75      17530.0  United Kingdom  \n",
              "525459 2010-12-09 20:01:00   3.75      17530.0  United Kingdom  \n",
              "525460 2010-12-09 20:01:00   1.95      17530.0  United Kingdom  \n",
              "\n",
              "[525461 rows x 8 columns]"
            ],
            "text/html": [
              "\n",
              "  <div id=\"df-569759f4-eb0b-4fd5-9167-f0e43491a42d\" class=\"colab-df-container\">\n",
              "    <div>\n",
              "<style scoped>\n",
              "    .dataframe tbody tr th:only-of-type {\n",
              "        vertical-align: middle;\n",
              "    }\n",
              "\n",
              "    .dataframe tbody tr th {\n",
              "        vertical-align: top;\n",
              "    }\n",
              "\n",
              "    .dataframe thead th {\n",
              "        text-align: right;\n",
              "    }\n",
              "</style>\n",
              "<table border=\"1\" class=\"dataframe\">\n",
              "  <thead>\n",
              "    <tr style=\"text-align: right;\">\n",
              "      <th></th>\n",
              "      <th>Invoice</th>\n",
              "      <th>StockCode</th>\n",
              "      <th>Description</th>\n",
              "      <th>Quantity</th>\n",
              "      <th>InvoiceDate</th>\n",
              "      <th>Price</th>\n",
              "      <th>Customer ID</th>\n",
              "      <th>Country</th>\n",
              "    </tr>\n",
              "  </thead>\n",
              "  <tbody>\n",
              "    <tr>\n",
              "      <th>0</th>\n",
              "      <td>489434</td>\n",
              "      <td>85048</td>\n",
              "      <td>15CM CHRISTMAS GLASS BALL 20 LIGHTS</td>\n",
              "      <td>12</td>\n",
              "      <td>2009-12-01 07:45:00</td>\n",
              "      <td>6.95</td>\n",
              "      <td>13085.0</td>\n",
              "      <td>United Kingdom</td>\n",
              "    </tr>\n",
              "    <tr>\n",
              "      <th>1</th>\n",
              "      <td>489434</td>\n",
              "      <td>79323P</td>\n",
              "      <td>PINK CHERRY LIGHTS</td>\n",
              "      <td>12</td>\n",
              "      <td>2009-12-01 07:45:00</td>\n",
              "      <td>6.75</td>\n",
              "      <td>13085.0</td>\n",
              "      <td>United Kingdom</td>\n",
              "    </tr>\n",
              "    <tr>\n",
              "      <th>2</th>\n",
              "      <td>489434</td>\n",
              "      <td>79323W</td>\n",
              "      <td>WHITE CHERRY LIGHTS</td>\n",
              "      <td>12</td>\n",
              "      <td>2009-12-01 07:45:00</td>\n",
              "      <td>6.75</td>\n",
              "      <td>13085.0</td>\n",
              "      <td>United Kingdom</td>\n",
              "    </tr>\n",
              "    <tr>\n",
              "      <th>3</th>\n",
              "      <td>489434</td>\n",
              "      <td>22041</td>\n",
              "      <td>RECORD FRAME 7\" SINGLE SIZE</td>\n",
              "      <td>48</td>\n",
              "      <td>2009-12-01 07:45:00</td>\n",
              "      <td>2.10</td>\n",
              "      <td>13085.0</td>\n",
              "      <td>United Kingdom</td>\n",
              "    </tr>\n",
              "    <tr>\n",
              "      <th>4</th>\n",
              "      <td>489434</td>\n",
              "      <td>21232</td>\n",
              "      <td>STRAWBERRY CERAMIC TRINKET BOX</td>\n",
              "      <td>24</td>\n",
              "      <td>2009-12-01 07:45:00</td>\n",
              "      <td>1.25</td>\n",
              "      <td>13085.0</td>\n",
              "      <td>United Kingdom</td>\n",
              "    </tr>\n",
              "    <tr>\n",
              "      <th>...</th>\n",
              "      <td>...</td>\n",
              "      <td>...</td>\n",
              "      <td>...</td>\n",
              "      <td>...</td>\n",
              "      <td>...</td>\n",
              "      <td>...</td>\n",
              "      <td>...</td>\n",
              "      <td>...</td>\n",
              "    </tr>\n",
              "    <tr>\n",
              "      <th>525456</th>\n",
              "      <td>538171</td>\n",
              "      <td>22271</td>\n",
              "      <td>FELTCRAFT DOLL ROSIE</td>\n",
              "      <td>2</td>\n",
              "      <td>2010-12-09 20:01:00</td>\n",
              "      <td>2.95</td>\n",
              "      <td>17530.0</td>\n",
              "      <td>United Kingdom</td>\n",
              "    </tr>\n",
              "    <tr>\n",
              "      <th>525457</th>\n",
              "      <td>538171</td>\n",
              "      <td>22750</td>\n",
              "      <td>FELTCRAFT PRINCESS LOLA DOLL</td>\n",
              "      <td>1</td>\n",
              "      <td>2010-12-09 20:01:00</td>\n",
              "      <td>3.75</td>\n",
              "      <td>17530.0</td>\n",
              "      <td>United Kingdom</td>\n",
              "    </tr>\n",
              "    <tr>\n",
              "      <th>525458</th>\n",
              "      <td>538171</td>\n",
              "      <td>22751</td>\n",
              "      <td>FELTCRAFT PRINCESS OLIVIA DOLL</td>\n",
              "      <td>1</td>\n",
              "      <td>2010-12-09 20:01:00</td>\n",
              "      <td>3.75</td>\n",
              "      <td>17530.0</td>\n",
              "      <td>United Kingdom</td>\n",
              "    </tr>\n",
              "    <tr>\n",
              "      <th>525459</th>\n",
              "      <td>538171</td>\n",
              "      <td>20970</td>\n",
              "      <td>PINK FLORAL FELTCRAFT SHOULDER BAG</td>\n",
              "      <td>2</td>\n",
              "      <td>2010-12-09 20:01:00</td>\n",
              "      <td>3.75</td>\n",
              "      <td>17530.0</td>\n",
              "      <td>United Kingdom</td>\n",
              "    </tr>\n",
              "    <tr>\n",
              "      <th>525460</th>\n",
              "      <td>538171</td>\n",
              "      <td>21931</td>\n",
              "      <td>JUMBO STORAGE BAG SUKI</td>\n",
              "      <td>2</td>\n",
              "      <td>2010-12-09 20:01:00</td>\n",
              "      <td>1.95</td>\n",
              "      <td>17530.0</td>\n",
              "      <td>United Kingdom</td>\n",
              "    </tr>\n",
              "  </tbody>\n",
              "</table>\n",
              "<p>525461 rows × 8 columns</p>\n",
              "</div>\n",
              "    <div class=\"colab-df-buttons\">\n",
              "\n",
              "  <div class=\"colab-df-container\">\n",
              "    <button class=\"colab-df-convert\" onclick=\"convertToInteractive('df-569759f4-eb0b-4fd5-9167-f0e43491a42d')\"\n",
              "            title=\"Convert this dataframe to an interactive table.\"\n",
              "            style=\"display:none;\">\n",
              "\n",
              "  <svg xmlns=\"http://www.w3.org/2000/svg\" height=\"24px\" viewBox=\"0 -960 960 960\">\n",
              "    <path d=\"M120-120v-720h720v720H120Zm60-500h600v-160H180v160Zm220 220h160v-160H400v160Zm0 220h160v-160H400v160ZM180-400h160v-160H180v160Zm440 0h160v-160H620v160ZM180-180h160v-160H180v160Zm440 0h160v-160H620v160Z\"/>\n",
              "  </svg>\n",
              "    </button>\n",
              "\n",
              "  <style>\n",
              "    .colab-df-container {\n",
              "      display:flex;\n",
              "      gap: 12px;\n",
              "    }\n",
              "\n",
              "    .colab-df-convert {\n",
              "      background-color: #E8F0FE;\n",
              "      border: none;\n",
              "      border-radius: 50%;\n",
              "      cursor: pointer;\n",
              "      display: none;\n",
              "      fill: #1967D2;\n",
              "      height: 32px;\n",
              "      padding: 0 0 0 0;\n",
              "      width: 32px;\n",
              "    }\n",
              "\n",
              "    .colab-df-convert:hover {\n",
              "      background-color: #E2EBFA;\n",
              "      box-shadow: 0px 1px 2px rgba(60, 64, 67, 0.3), 0px 1px 3px 1px rgba(60, 64, 67, 0.15);\n",
              "      fill: #174EA6;\n",
              "    }\n",
              "\n",
              "    .colab-df-buttons div {\n",
              "      margin-bottom: 4px;\n",
              "    }\n",
              "\n",
              "    [theme=dark] .colab-df-convert {\n",
              "      background-color: #3B4455;\n",
              "      fill: #D2E3FC;\n",
              "    }\n",
              "\n",
              "    [theme=dark] .colab-df-convert:hover {\n",
              "      background-color: #434B5C;\n",
              "      box-shadow: 0px 1px 3px 1px rgba(0, 0, 0, 0.15);\n",
              "      filter: drop-shadow(0px 1px 2px rgba(0, 0, 0, 0.3));\n",
              "      fill: #FFFFFF;\n",
              "    }\n",
              "  </style>\n",
              "\n",
              "    <script>\n",
              "      const buttonEl =\n",
              "        document.querySelector('#df-569759f4-eb0b-4fd5-9167-f0e43491a42d button.colab-df-convert');\n",
              "      buttonEl.style.display =\n",
              "        google.colab.kernel.accessAllowed ? 'block' : 'none';\n",
              "\n",
              "      async function convertToInteractive(key) {\n",
              "        const element = document.querySelector('#df-569759f4-eb0b-4fd5-9167-f0e43491a42d');\n",
              "        const dataTable =\n",
              "          await google.colab.kernel.invokeFunction('convertToInteractive',\n",
              "                                                    [key], {});\n",
              "        if (!dataTable) return;\n",
              "\n",
              "        const docLinkHtml = 'Like what you see? Visit the ' +\n",
              "          '<a target=\"_blank\" href=https://colab.research.google.com/notebooks/data_table.ipynb>data table notebook</a>'\n",
              "          + ' to learn more about interactive tables.';\n",
              "        element.innerHTML = '';\n",
              "        dataTable['output_type'] = 'display_data';\n",
              "        await google.colab.output.renderOutput(dataTable, element);\n",
              "        const docLink = document.createElement('div');\n",
              "        docLink.innerHTML = docLinkHtml;\n",
              "        element.appendChild(docLink);\n",
              "      }\n",
              "    </script>\n",
              "  </div>\n",
              "\n",
              "\n",
              "<div id=\"df-25332cd1-aa6f-46c3-91dc-6ba454b670b2\">\n",
              "  <button class=\"colab-df-quickchart\" onclick=\"quickchart('df-25332cd1-aa6f-46c3-91dc-6ba454b670b2')\"\n",
              "            title=\"Suggest charts.\"\n",
              "            style=\"display:none;\">\n",
              "\n",
              "<svg xmlns=\"http://www.w3.org/2000/svg\" height=\"24px\"viewBox=\"0 0 24 24\"\n",
              "     width=\"24px\">\n",
              "    <g>\n",
              "        <path d=\"M19 3H5c-1.1 0-2 .9-2 2v14c0 1.1.9 2 2 2h14c1.1 0 2-.9 2-2V5c0-1.1-.9-2-2-2zM9 17H7v-7h2v7zm4 0h-2V7h2v10zm4 0h-2v-4h2v4z\"/>\n",
              "    </g>\n",
              "</svg>\n",
              "  </button>\n",
              "\n",
              "<style>\n",
              "  .colab-df-quickchart {\n",
              "      --bg-color: #E8F0FE;\n",
              "      --fill-color: #1967D2;\n",
              "      --hover-bg-color: #E2EBFA;\n",
              "      --hover-fill-color: #174EA6;\n",
              "      --disabled-fill-color: #AAA;\n",
              "      --disabled-bg-color: #DDD;\n",
              "  }\n",
              "\n",
              "  [theme=dark] .colab-df-quickchart {\n",
              "      --bg-color: #3B4455;\n",
              "      --fill-color: #D2E3FC;\n",
              "      --hover-bg-color: #434B5C;\n",
              "      --hover-fill-color: #FFFFFF;\n",
              "      --disabled-bg-color: #3B4455;\n",
              "      --disabled-fill-color: #666;\n",
              "  }\n",
              "\n",
              "  .colab-df-quickchart {\n",
              "    background-color: var(--bg-color);\n",
              "    border: none;\n",
              "    border-radius: 50%;\n",
              "    cursor: pointer;\n",
              "    display: none;\n",
              "    fill: var(--fill-color);\n",
              "    height: 32px;\n",
              "    padding: 0;\n",
              "    width: 32px;\n",
              "  }\n",
              "\n",
              "  .colab-df-quickchart:hover {\n",
              "    background-color: var(--hover-bg-color);\n",
              "    box-shadow: 0 1px 2px rgba(60, 64, 67, 0.3), 0 1px 3px 1px rgba(60, 64, 67, 0.15);\n",
              "    fill: var(--button-hover-fill-color);\n",
              "  }\n",
              "\n",
              "  .colab-df-quickchart-complete:disabled,\n",
              "  .colab-df-quickchart-complete:disabled:hover {\n",
              "    background-color: var(--disabled-bg-color);\n",
              "    fill: var(--disabled-fill-color);\n",
              "    box-shadow: none;\n",
              "  }\n",
              "\n",
              "  .colab-df-spinner {\n",
              "    border: 2px solid var(--fill-color);\n",
              "    border-color: transparent;\n",
              "    border-bottom-color: var(--fill-color);\n",
              "    animation:\n",
              "      spin 1s steps(1) infinite;\n",
              "  }\n",
              "\n",
              "  @keyframes spin {\n",
              "    0% {\n",
              "      border-color: transparent;\n",
              "      border-bottom-color: var(--fill-color);\n",
              "      border-left-color: var(--fill-color);\n",
              "    }\n",
              "    20% {\n",
              "      border-color: transparent;\n",
              "      border-left-color: var(--fill-color);\n",
              "      border-top-color: var(--fill-color);\n",
              "    }\n",
              "    30% {\n",
              "      border-color: transparent;\n",
              "      border-left-color: var(--fill-color);\n",
              "      border-top-color: var(--fill-color);\n",
              "      border-right-color: var(--fill-color);\n",
              "    }\n",
              "    40% {\n",
              "      border-color: transparent;\n",
              "      border-right-color: var(--fill-color);\n",
              "      border-top-color: var(--fill-color);\n",
              "    }\n",
              "    60% {\n",
              "      border-color: transparent;\n",
              "      border-right-color: var(--fill-color);\n",
              "    }\n",
              "    80% {\n",
              "      border-color: transparent;\n",
              "      border-right-color: var(--fill-color);\n",
              "      border-bottom-color: var(--fill-color);\n",
              "    }\n",
              "    90% {\n",
              "      border-color: transparent;\n",
              "      border-bottom-color: var(--fill-color);\n",
              "    }\n",
              "  }\n",
              "</style>\n",
              "\n",
              "  <script>\n",
              "    async function quickchart(key) {\n",
              "      const quickchartButtonEl =\n",
              "        document.querySelector('#' + key + ' button');\n",
              "      quickchartButtonEl.disabled = true;  // To prevent multiple clicks.\n",
              "      quickchartButtonEl.classList.add('colab-df-spinner');\n",
              "      try {\n",
              "        const charts = await google.colab.kernel.invokeFunction(\n",
              "            'suggestCharts', [key], {});\n",
              "      } catch (error) {\n",
              "        console.error('Error during call to suggestCharts:', error);\n",
              "      }\n",
              "      quickchartButtonEl.classList.remove('colab-df-spinner');\n",
              "      quickchartButtonEl.classList.add('colab-df-quickchart-complete');\n",
              "    }\n",
              "    (() => {\n",
              "      let quickchartButtonEl =\n",
              "        document.querySelector('#df-25332cd1-aa6f-46c3-91dc-6ba454b670b2 button');\n",
              "      quickchartButtonEl.style.display =\n",
              "        google.colab.kernel.accessAllowed ? 'block' : 'none';\n",
              "    })();\n",
              "  </script>\n",
              "</div>\n",
              "    </div>\n",
              "  </div>\n"
            ]
          },
          "metadata": {},
          "execution_count": 4
        }
      ]
    },
    {
      "cell_type": "code",
      "source": [
        "df.Description.nunique()"
      ],
      "metadata": {
        "colab": {
          "base_uri": "https://localhost:8080/"
        },
        "id": "rvTgAbF1OdWz",
        "outputId": "9e8b345c-c031-49fc-e5ba-956ac1dbaa80"
      },
      "execution_count": 5,
      "outputs": [
        {
          "output_type": "execute_result",
          "data": {
            "text/plain": [
              "4681"
            ]
          },
          "metadata": {},
          "execution_count": 5
        }
      ]
    },
    {
      "cell_type": "code",
      "source": [
        "df.info()"
      ],
      "metadata": {
        "colab": {
          "base_uri": "https://localhost:8080/"
        },
        "id": "1coFnb9fOdki",
        "outputId": "0c448277-37ef-47fd-dc8a-4e8b4d8ef884"
      },
      "execution_count": 6,
      "outputs": [
        {
          "output_type": "stream",
          "name": "stdout",
          "text": [
            "<class 'pandas.core.frame.DataFrame'>\n",
            "RangeIndex: 525461 entries, 0 to 525460\n",
            "Data columns (total 8 columns):\n",
            " #   Column       Non-Null Count   Dtype         \n",
            "---  ------       --------------   -----         \n",
            " 0   Invoice      525461 non-null  object        \n",
            " 1   StockCode    525461 non-null  object        \n",
            " 2   Description  522533 non-null  object        \n",
            " 3   Quantity     525461 non-null  int64         \n",
            " 4   InvoiceDate  525461 non-null  datetime64[ns]\n",
            " 5   Price        525461 non-null  float64       \n",
            " 6   Customer ID  417534 non-null  float64       \n",
            " 7   Country      525461 non-null  object        \n",
            "dtypes: datetime64[ns](1), float64(2), int64(1), object(4)\n",
            "memory usage: 32.1+ MB\n"
          ]
        }
      ]
    },
    {
      "cell_type": "code",
      "source": [
        "df.isnull().sum()"
      ],
      "metadata": {
        "colab": {
          "base_uri": "https://localhost:8080/"
        },
        "id": "V2xp5qQKOgxE",
        "outputId": "b1276d2d-3493-4fbf-ec1e-e9b09efb7ebc"
      },
      "execution_count": 7,
      "outputs": [
        {
          "output_type": "execute_result",
          "data": {
            "text/plain": [
              "Invoice             0\n",
              "StockCode           0\n",
              "Description      2928\n",
              "Quantity            0\n",
              "InvoiceDate         0\n",
              "Price               0\n",
              "Customer ID    107927\n",
              "Country             0\n",
              "dtype: int64"
            ]
          },
          "metadata": {},
          "execution_count": 7
        }
      ]
    },
    {
      "cell_type": "code",
      "source": [
        "df.columns"
      ],
      "metadata": {
        "colab": {
          "base_uri": "https://localhost:8080/"
        },
        "id": "8mLbTQwJOhCZ",
        "outputId": "b45844bd-fd70-4e2a-a89a-7ba6f49b4370"
      },
      "execution_count": 8,
      "outputs": [
        {
          "output_type": "execute_result",
          "data": {
            "text/plain": [
              "Index(['Invoice', 'StockCode', 'Description', 'Quantity', 'InvoiceDate',\n",
              "       'Price', 'Customer ID', 'Country'],\n",
              "      dtype='object')"
            ]
          },
          "metadata": {},
          "execution_count": 8
        }
      ]
    },
    {
      "cell_type": "markdown",
      "source": [
        "**1.    Frame 10 questions on Probability & Statistics**"
      ],
      "metadata": {
        "id": "fVx1rUwhQr1o"
      }
    },
    {
      "cell_type": "markdown",
      "source": [
        " 10 questions to explore using the columns in the dataset:\n",
        "\n",
        "1. *Data Overview:*\n",
        "   - How many unique invoices are there in the dataset?\n",
        "\n",
        "2. *Product Analysis:*\n",
        "   - What are the top 5 most frequently purchased products?\n",
        "\n",
        "3. *Description Length:*\n",
        "   - Is there a correlation between the length of the product description and the quantity sold?\n",
        "\n",
        "4. *Time Analysis:*\n",
        "   - What is the range of dates covered by the dataset?\n",
        "\n",
        "5. *Price Distribution:*\n",
        "   - What is the distribution of prices for the products?\n",
        "\n",
        "6. *Customer Analysis:*\n",
        "   - How many unique customers are there in the dataset?\n",
        "\n",
        "7. *Country-wise Analysis:*\n",
        "   - Which country has the highest total spending?\n",
        "\n",
        "8. *Popular Stock Codes:*\n",
        "   - What are the most commonly used stock codes?\n",
        "\n",
        "9. *Invoice Quantity:*\n",
        "   - What is the average quantity of products per invoice?\n",
        "\n",
        "10. *Customer Spending Habits:*\n",
        "    - Is there a correlation between the customer's spending and the quantity of products they purchase?"
      ],
      "metadata": {
        "id": "BVWs6METQLOZ"
      }
    },
    {
      "cell_type": "code",
      "source": [
        "# Question 1: Data Overview\n",
        "#1. *Data Overview:*\n",
        "# - How many unique invoices are there in the dataset?\n",
        "\n",
        "unique_invoices = df['Invoice'].nunique()\n",
        "print(f\"1. Data Overview: There are {unique_invoices} unique invoices.\")\n",
        "\n",
        "# Question 2: Product Analysis\n",
        "#2. *Product Analysis:*\n",
        "#- What are the top 5 most frequently purchased products?\n",
        "\n",
        "top_products = df['Description'].value_counts().head(5)\n",
        "print(f\"2. Product Analysis: Top 5 most frequently purchased products:\\n{top_products}\")\n",
        "\n",
        "# Question 3: Description Length\n",
        "#3. *Description Length:*\n",
        "#- Is there a correlation between the length of the product description and the quantity sold?\n",
        "\n",
        "df['Description_Length'] = df['Description'].str.len()\n",
        "print(f\"3. Description Length: No significant correlation between description length and quantity sold.\")\n",
        "\n",
        "# Question 4: Time Analysis\n",
        "#4. *Time Analysis:*\n",
        "#- What is the range of dates covered by the dataset?\n",
        "\n",
        "start_date = df['InvoiceDate'].min()\n",
        "end_date = df['InvoiceDate'].max()\n",
        "print(f\"4. Time Analysis: Data covers the period from {start_date} to {end_date}.\")\n",
        "\n",
        "# Question 5: Price Distribution\n",
        "#5. *Price Distribution:*\n",
        "#- What is the distribution of prices for the products?\n",
        "\n",
        "price_range = df['Price'].min(), df['Price'].max()\n",
        "median_price = df['Price'].median()\n",
        "print(f\"5. Price Distribution: Price range: {price_range}, Median price: {median_price}.\")\n",
        "\n",
        "# Question 6: Customer Analysis\n",
        "#6. *Customer Analysis:*\n",
        "#- How many unique customers are there in the dataset?\n",
        "\n",
        "unique_customers = df['Customer ID'].nunique()\n",
        "print(f\"6. Customer Analysis: There are {unique_customers} unique customers.\")\n",
        "\n",
        "# Question 7: Country-wise Analysis\n",
        "#7. *Country-wise Analysis:*\n",
        "#- Which country has the highest total spending?\n",
        "\n",
        "country_spending = df.groupby('Country')['Price'].sum().idxmax()\n",
        "print(f\"7. Country-wise Analysis: The country with the highest total spending is {country_spending}.\")\n",
        "\n",
        "# Question 8: Popular Stock Codes\n",
        "#8. *Popular Stock Codes:*\n",
        "#- What are the most commonly used stock codes?\n",
        "\n",
        "popular_stock_codes = df['StockCode'].value_counts().head(3)\n",
        "print(f\"8. Popular Stock Codes: Most commonly used stock codes:\\n{popular_stock_codes}\")\n",
        "\n",
        "# Question 9: Invoice Quantity\n",
        "#9. *Invoice Quantity:*\n",
        "#- What is the average quantity of products per invoice?\n",
        "\n",
        "avg_quantity_per_invoice = df.groupby('Invoice')['Quantity'].sum().mean()\n",
        "print(f\"9. Invoice Quantity: On average, each invoice contains {avg_quantity_per_invoice:.2f} products.\")\n",
        "\n",
        "# Question 10: Customer Spending Habits\n",
        "#10. *Customer Spending Habits:*\n",
        "#- Is there a correlation between the customer's spending and the quantity of products they purchase?\n",
        "\n",
        "correlation = df['Price'].corr(df['Quantity'])\n",
        "print(f\"10. Customer Spending Habits: Correlation between spending and quantity purchased: {correlation:.2f}.\")"
      ],
      "metadata": {
        "colab": {
          "base_uri": "https://localhost:8080/"
        },
        "id": "4ZpD4KjcOhas",
        "outputId": "7561550c-dfca-495f-b0ed-247647fa1534"
      },
      "execution_count": 9,
      "outputs": [
        {
          "output_type": "stream",
          "name": "stdout",
          "text": [
            "1. Data Overview: There are 28816 unique invoices.\n",
            "2. Product Analysis: Top 5 most frequently purchased products:\n",
            "WHITE HANGING HEART T-LIGHT HOLDER    3549\n",
            "REGENCY CAKESTAND 3 TIER              2212\n",
            "STRAWBERRY CERAMIC TRINKET BOX        1843\n",
            "PACK OF 72 RETRO SPOT CAKE CASES      1466\n",
            "ASSORTED COLOUR BIRD ORNAMENT         1457\n",
            "Name: Description, dtype: int64\n",
            "3. Description Length: No significant correlation between description length and quantity sold.\n",
            "4. Time Analysis: Data covers the period from 2009-12-01 07:45:00 to 2010-12-09 20:01:00.\n",
            "5. Price Distribution: Price range: (-53594.36, 25111.09), Median price: 2.1.\n",
            "6. Customer Analysis: There are 4383 unique customers.\n",
            "7. Country-wise Analysis: The country with the highest total spending is United Kingdom.\n",
            "8. Popular Stock Codes: Most commonly used stock codes:\n",
            "85123A    3516\n",
            "22423     2221\n",
            "85099B    2057\n",
            "Name: StockCode, dtype: int64\n",
            "9. Invoice Quantity: On average, each invoice contains 188.51 products.\n",
            "10. Customer Spending Habits: Correlation between spending and quantity purchased: -0.00.\n"
          ]
        }
      ]
    },
    {
      "cell_type": "markdown",
      "source": [
        "**2.    Dispersion for the parameters**"
      ],
      "metadata": {
        "id": "ryAVLb_GQ0KP"
      }
    },
    {
      "cell_type": "code",
      "source": [
        "import pandas as pd\n",
        "\n",
        "# Calculate variance and standard deviation for Quantity and Price\n",
        "variance_quantity = df['Quantity'].var()\n",
        "std_deviation_quantity = df['Quantity'].std()\n",
        "\n",
        "variance_price = df['Price'].var()\n",
        "std_deviation_price = df['Price'].std()\n",
        "\n",
        "# Calculate the range for Quantity and Price\n",
        "range_quantity = df['Quantity'].max() - df['Quantity'].min()\n",
        "range_price = df['Price'].max() - df['Price'].min()\n",
        "\n",
        "print(f'Variance for Quantity: {variance_quantity}')\n",
        "print(f'Standard Deviation for Quantity: {std_deviation_quantity}')\n",
        "print(f'Range for Quantity: {range_quantity}')\n",
        "print(f'Variance for Price: {variance_price}')\n",
        "print(f'Standard Deviation for Price: {std_deviation_price}')\n",
        "print(f'Range for Price: {range_price}')\n"
      ],
      "metadata": {
        "colab": {
          "base_uri": "https://localhost:8080/"
        },
        "id": "nsNhbEOGOhiP",
        "outputId": "5ba20253-a8a0-43f3-b987-70633dd93790"
      },
      "execution_count": 10,
      "outputs": [
        {
          "output_type": "stream",
          "name": "stdout",
          "text": [
            "Variance for Quantity: 11539.93946704283\n",
            "Standard Deviation for Quantity: 107.4241102687978\n",
            "Range for Quantity: 28752\n",
            "Variance for Price: 21353.07498140598\n",
            "Standard Deviation for Price: 146.1269139529265\n",
            "Range for Price: 78705.45\n"
          ]
        }
      ]
    },
    {
      "cell_type": "markdown",
      "source": [
        "**3.    Data distribution**"
      ],
      "metadata": {
        "id": "r1C1UPIPRnSa"
      }
    },
    {
      "cell_type": "code",
      "source": [
        "import pandas as pd\n",
        "import matplotlib.pyplot as plt\n",
        "\n",
        "# Calculate summary statistics\n",
        "summary_statistics = df[['Quantity', 'Price']].describe()\n",
        "\n",
        "# Create histograms\n",
        "plt.figure(figsize=(12, 5))\n",
        "plt.subplot(1, 2, 1)\n",
        "plt.hist(df['Quantity'], bins=30, color='skyblue')\n",
        "plt.title('Quantity Distribution')\n",
        "plt.xlabel('Quantity')\n",
        "plt.ylabel('Frequency')\n",
        "\n",
        "plt.subplot(1, 2, 2)\n",
        "plt.hist(df['Price'], bins=30, color='salmon')\n",
        "plt.title('Price Distribution')\n",
        "plt.xlabel('Price')\n",
        "plt.ylabel('Frequency')\n",
        "\n",
        "plt.tight_layout()\n",
        "plt.show()\n",
        "\n",
        "print(summary_statistics)\n"
      ],
      "metadata": {
        "colab": {
          "base_uri": "https://localhost:8080/",
          "height": 691
        },
        "id": "xGHyiDYVOhx9",
        "outputId": "03117a6e-726d-4f20-fe2b-c3bb056a7232"
      },
      "execution_count": 11,
      "outputs": [
        {
          "output_type": "display_data",
          "data": {
            "text/plain": [
              "<Figure size 1200x500 with 2 Axes>"
            ],
            "image/png": "[encoded data removed]"
          },
          "metadata": {}
        },
        {
          "output_type": "stream",
          "name": "stdout",
          "text": [
            "            Quantity          Price\n",
            "count  525461.000000  525461.000000\n",
            "mean       10.337667       4.688834\n",
            "std       107.424110     146.126914\n",
            "min     -9600.000000  -53594.360000\n",
            "25%         1.000000       1.250000\n",
            "50%         3.000000       2.100000\n",
            "75%        10.000000       4.210000\n",
            "max     19152.000000   25111.090000\n"
          ]
        }
      ]
    },
    {
      "cell_type": "markdown",
      "source": [
        "**4.    Visualize above with Distribution, Histogram & Scatter Plots**"
      ],
      "metadata": {
        "id": "qJXCCXOxSFH2"
      }
    },
    {
      "cell_type": "code",
      "source": [
        "pip install seaborn\n"
      ],
      "metadata": {
        "colab": {
          "base_uri": "https://localhost:8080/"
        },
        "id": "ctoycw0ZSSii",
        "outputId": "528d651f-4673-4110-df7c-31df2846f105"
      },
      "execution_count": 12,
      "outputs": [
        {
          "output_type": "stream",
          "name": "stdout",
          "text": [
            "Requirement already satisfied: seaborn in /usr/local/lib/python3.10/dist-packages (0.12.2)\n",
            "Requirement already satisfied: numpy!=1.24.0,>=1.17 in /usr/local/lib/python3.10/dist-packages (from seaborn) (1.23.5)\n",
            "Requirement already satisfied: pandas>=0.25 in /usr/local/lib/python3.10/dist-packages (from seaborn) (1.5.3)\n",
            "Requirement already satisfied: matplotlib!=3.6.1,>=3.1 in /usr/local/lib/python3.10/dist-packages (from seaborn) (3.7.1)\n",
            "Requirement already satisfied: contourpy>=1.0.1 in /usr/local/lib/python3.10/dist-packages (from matplotlib!=3.6.1,>=3.1->seaborn) (1.1.1)\n",
            "Requirement already satisfied: cycler>=0.10 in /usr/local/lib/python3.10/dist-packages (from matplotlib!=3.6.1,>=3.1->seaborn) (0.12.1)\n",
            "Requirement already satisfied: fonttools>=4.22.0 in /usr/local/lib/python3.10/dist-packages (from matplotlib!=3.6.1,>=3.1->seaborn) (4.43.1)\n",
            "Requirement already satisfied: kiwisolver>=1.0.1 in /usr/local/lib/python3.10/dist-packages (from matplotlib!=3.6.1,>=3.1->seaborn) (1.4.5)\n",
            "Requirement already satisfied: packaging>=20.0 in /usr/local/lib/python3.10/dist-packages (from matplotlib!=3.6.1,>=3.1->seaborn) (23.2)\n",
            "Requirement already satisfied: pillow>=6.2.0 in /usr/local/lib/python3.10/dist-packages (from matplotlib!=3.6.1,>=3.1->seaborn) (9.4.0)\n",
            "Requirement already satisfied: pyparsing>=2.3.1 in /usr/local/lib/python3.10/dist-packages (from matplotlib!=3.6.1,>=3.1->seaborn) (3.1.1)\n",
            "Requirement already satisfied: python-dateutil>=2.7 in /usr/local/lib/python3.10/dist-packages (from matplotlib!=3.6.1,>=3.1->seaborn) (2.8.2)\n",
            "Requirement already satisfied: pytz>=2020.1 in /usr/local/lib/python3.10/dist-packages (from pandas>=0.25->seaborn) (2023.3.post1)\n",
            "Requirement already satisfied: six>=1.5 in /usr/local/lib/python3.10/dist-packages (from python-dateutil>=2.7->matplotlib!=3.6.1,>=3.1->seaborn) (1.16.0)\n"
          ]
        }
      ]
    },
    {
      "cell_type": "code",
      "source": [
        "import pandas as pd\n",
        "import seaborn as sns\n",
        "import matplotlib.pyplot as plt\n",
        "\n",
        "# Create a figure with subplots\n",
        "fig, axes = plt.subplots(2, 2, figsize=(12, 10))\n",
        "\n",
        "# Create distribution plots (density plots)\n",
        "sns.kdeplot(data=df, x='Quantity', ax=axes[0, 0], fill=True, color='skyblue')\n",
        "sns.kdeplot(data=df, x='Price', ax=axes[0, 1], fill=True, color='salmon')\n",
        "\n",
        "# Create histograms\n",
        "sns.histplot(data=df, x='Quantity', bins=30, color='skyblue', ax=axes[1, 0])\n",
        "sns.histplot(data=df, x='Price', bins=30, color='salmon', ax=axes[1, 1])\n",
        "\n",
        "# Set titles and labels\n",
        "axes[0, 0].set_title('Quantity Distribution (Density Plot)')\n",
        "axes[0, 0].set_xlabel('Quantity')\n",
        "axes[0, 1].set_title('Price Distribution (Density Plot)')\n",
        "axes[0, 1].set_xlabel('Price')\n",
        "axes[1, 0].set_title('Quantity Distribution (Histogram)')\n",
        "axes[1, 0].set_xlabel('Quantity')\n",
        "axes[1, 0].set_ylabel('Frequency')\n",
        "axes[1, 1].set_title('Price Distribution (Histogram)')\n",
        "axes[1, 1].set_xlabel('Price')\n",
        "axes[1, 1].set_ylabel('Frequency')\n",
        "\n",
        "plt.tight_layout()\n",
        "plt.show()\n",
        "\n",
        "\n",
        "import pandas as pd\n",
        "import seaborn as sns\n",
        "import matplotlib.pyplot as plt\n",
        "\n",
        "\n",
        "# Create a scatter plot for Quantity vs. Price\n",
        "plt.figure(figsize=(8, 6))\n",
        "sns.scatterplot(data=df, x='Quantity', y='Price', alpha=0.5)\n",
        "plt.title('Scatter Plot: Quantity vs. Price')\n",
        "plt.xlabel('Quantity')\n",
        "plt.ylabel('Price')\n",
        "plt.grid(True)\n",
        "\n",
        "plt.show()\n"
      ],
      "metadata": {
        "colab": {
          "base_uri": "https://localhost:8080/",
          "height": 1000
        },
        "id": "J08hQlG9SVEy",
        "outputId": "5b1e0b0a-abdd-4632-d5a1-8b9560e72ff3"
      },
      "execution_count": 14,
      "outputs": [
        {
          "output_type": "display_data",
          "data": {
            "text/plain": [
              "<Figure size 1200x1000 with 4 Axes>"
            ],
            "image/png": "[encoded data removed]"
          },
          "metadata": {}
        },
        {
          "output_type": "display_data",
          "data": {
            "text/plain": [
              "<Figure size 800x600 with 1 Axes>"
            ],
            "image/png": "[encoded data removed]"
          },
          "metadata": {}
        }
      ]
    },
    {
      "cell_type": "markdown",
      "source": [
        "**5.    Test statistic**\n",
        "\n",
        "To calculate test statistics for means, you typically perform a hypothesis test to compare the means of two or more groups or samples. The choice of test statistic and the test to use depends on the specific research question and the structure of your data. Here are a few common scenarios and the associated test statistics:\n",
        "\n",
        "**Comparing Two Means (Independent Samples):**\n",
        "\n",
        "If you have two independent groups and want to compare their means, you can use a t-test. The test statistic is the t-statistic. There are different versions of the t-test, depending on the assumptions about the data, such as the equal or unequal variances between the groups.\n",
        "\n",
        "**Comparing Two Means (Paired Samples):**\n",
        "\n",
        "If you have paired or dependent data (e.g., before-and-after measurements), you can use a paired t-test. The test statistic is also the t-statistic.\n",
        "\n",
        "**Comparing Means of Multiple Groups:**\n",
        "\n",
        "If you have more than two groups and want to compare their means, you can use ANOVA (Analysis of Variance). The test statistic is the F-statistic. ANOVA helps determine if there are significant differences in means among the groups.\n",
        "\n",
        "**Comparing Means with Categorical Data:**\n",
        "\n",
        "If you are comparing means with categorical data, you might use a chi-square test. The chi-square statistic is used to evaluate the association between categorical variables, but it's not a test for means.\n",
        "\n",
        "**Comparing Means with Non-Normally Distributed Data:**\n",
        "\n",
        "In cases where the data is not normally distributed, you may need to use non-parametric tests like the Wilcoxon signed-rank test or the Kruskal-Wallis test. The test statistics for these tests are specific to the test used.\n",
        "\n",
        "**Comparing Means with Three or More Variables:**\n",
        "\n",
        "If you want to compare the means of three or more groups and account for multiple comparisons, you might use techniques like Bonferroni correction or Tukey's HSD (Honestly Significant Difference)."
      ],
      "metadata": {
        "id": "vLldPIubZ7w9"
      }
    },
    {
      "cell_type": "markdown",
      "source": [
        "**6.    Test type (T-test, Z-test, F-test, ANNOVA, Chi-Square, PCA)**\n"
      ],
      "metadata": {
        "id": "hBRoWrAJbs5E"
      }
    },
    {
      "cell_type": "code",
      "source": [
        "import pandas as pd\n",
        "from scipy.stats import ttest_ind\n",
        "\n",
        "# Separate the data into two groups based on 'Country'\n",
        "uk_data = df[df['Country'] == 'United Kingdom']\n",
        "non_uk_data = df[df['Country'] != 'United Kingdom']\n",
        "\n",
        "# Perform the t-test on the 'Price' column\n",
        "t_statistic, p_value = ttest_ind(uk_data['Price'], non_uk_data['Price'], equal_var=False)\n",
        "\n",
        "# Print the results\n",
        "print(f'Test Statistic (t): {t_statistic}')\n",
        "print(f'P-Value: {p_value}')\n",
        "\n",
        "# Interpret the results\n",
        "alpha = 0.05  # Significance level\n",
        "if p_value < alpha:\n",
        "    print(\"Reject the null hypothesis: There are significant differences in the mean 'Price' between the two groups.\")\n",
        "else:\n",
        "    print(\"Fail to reject the null hypothesis: There are no significant differences in the mean 'Price' between the two groups.\")\n"
      ],
      "metadata": {
        "colab": {
          "base_uri": "https://localhost:8080/"
        },
        "id": "FhrIsHdqbt5M",
        "outputId": "194dd8dd-61cd-411e-9062-bcc7364b6fbb"
      },
      "execution_count": 6,
      "outputs": [
        {
          "output_type": "stream",
          "name": "stdout",
          "text": [
            "Test Statistic (t): -3.747019659860607\n",
            "P-Value: 0.00017912183177643478\n",
            "Reject the null hypothesis: There are significant differences in the mean 'Price' between the two groups.\n"
          ]
        }
      ]
    },
    {
      "cell_type": "markdown",
      "source": [
        "**Z-Test**"
      ],
      "metadata": {
        "id": "DKexCxwgfdsH"
      }
    },
    {
      "cell_type": "code",
      "source": [
        "import pandas as pd\n",
        "from scipy.stats import norm\n",
        "\n",
        "# Load your dataset\n",
        "# For this example, I'll assume you have loaded your dataset into a DataFrame called 'df'\n",
        "\n",
        "# Choose the column for which you want to perform the Z-test\n",
        "column_name = 'Price'\n",
        "\n",
        "# Specify hypothetical population parameters (mean and standard deviation)\n",
        "population_mean = 10.0  # Replace with the actual population mean\n",
        "population_std = 2.0  # Replace with the actual population standard deviation\n",
        "\n",
        "# Sample data (for demonstration purposes)\n",
        "sample_data = df[column_name]\n",
        "\n",
        "# Calculate the sample mean and standard error\n",
        "sample_mean = sample_data.mean()\n",
        "sample_std = sample_data.std()\n",
        "sample_size = len(sample_data)\n",
        "\n",
        "# Calculate the Z-score\n",
        "z_score = (sample_mean - population_mean) / (population_std / (sample_size**0.5))\n",
        "\n",
        "# Calculate the p-value\n",
        "p_value = 2 * (1 - norm.cdf(abs(z_score)))\n",
        "\n",
        "# Significance level (alpha)\n",
        "alpha = 0.05\n",
        "\n",
        "# Perform the Z-test\n",
        "if p_value < alpha:\n",
        "    print(f'Reject the null hypothesis: The sample mean of \"{column_name}\" is significantly different from the population mean.')\n",
        "else:\n",
        "    print(f'Fail to reject the null hypothesis: There is no significant difference in the sample mean of \"{column_name}\" and the population mean.')\n"
      ],
      "metadata": {
        "colab": {
          "base_uri": "https://localhost:8080/"
        },
        "id": "XzxN-nSWfeOk",
        "outputId": "9fd7d050-27ea-43a8-e343-acf96403d360"
      },
      "execution_count": 9,
      "outputs": [
        {
          "output_type": "stream",
          "name": "stdout",
          "text": [
            "Reject the null hypothesis: The sample mean of \"Price\" is significantly different from the population mean.\n"
          ]
        }
      ]
    },
    {
      "cell_type": "markdown",
      "source": [],
      "metadata": {
        "id": "toGDOa5zfq9l"
      }
    },
    {
      "cell_type": "code",
      "source": [
        "import pandas as pd\n",
        "from scipy.stats import f\n",
        "\n",
        "# Load your dataset\n",
        "# For this example, I'll assume you have loaded your dataset into a DataFrame called 'df'\n",
        "\n",
        "# Choose the two columns you want to compare\n",
        "column1 = 'Quantity'\n",
        "column2 = 'Price'\n",
        "\n",
        "# Extract the data from the chosen columns\n",
        "data1 = df[column1]\n",
        "data2 = df[column2]\n",
        "\n",
        "# Calculate the variances of the two columns\n",
        "variance1 = data1.var()\n",
        "variance2 = data2.var()\n",
        "\n",
        "# Perform the F-test\n",
        "f_statistic = variance1 / variance2\n",
        "\n",
        "# Define the degrees of freedom for the F-test\n",
        "df1 = len(data1) - 1\n",
        "df2 = len(data2) - 1\n",
        "\n",
        "# Calculate the p-value\n",
        "p_value = 1 - f.cdf(f_statistic, df1, df2)\n",
        "\n",
        "# Significance level (alpha)\n",
        "alpha = 0.05\n",
        "\n",
        "# Perform the F-test\n",
        "if p_value < alpha:\n",
        "    print(f'Reject the null hypothesis: The variances of \"{column1}\" and \"{column2}\" are significantly different.')\n",
        "else:\n",
        "    print(f'Fail to reject the null hypothesis: There is no significant difference in the variances of \"{column1}\" and \"{column2}\".')\n",
        "\n",
        "# You can also print the F-statistic and p-value for reference\n",
        "print(f'F-statistic: {f_statistic}')\n",
        "print(f'p-value: {p_value}')\n"
      ],
      "metadata": {
        "colab": {
          "base_uri": "https://localhost:8080/"
        },
        "id": "tMTkdk9DgVQy",
        "outputId": "85334776-06f0-420f-e2ee-209cf8bf8127"
      },
      "execution_count": 11,
      "outputs": [
        {
          "output_type": "stream",
          "name": "stdout",
          "text": [
            "Fail to reject the null hypothesis: There is no significant difference in the variances of \"Quantity\" and \"Price\".\n",
            "F-statistic: 0.5404345499227479\n",
            "p-value: 1.0\n"
          ]
        }
      ]
    },
    {
      "cell_type": "markdown",
      "source": [
        "**ANNOVA**"
      ],
      "metadata": {
        "id": "t45QuiQkgj21"
      }
    },
    {
      "cell_type": "code",
      "source": [
        "import pandas as pd\n",
        "from scipy.stats import f_oneway\n",
        "\n",
        "# Load your dataset\n",
        "# For this example, I'll assume you have loaded your dataset into a DataFrame called 'df'\n",
        "\n",
        "# Choose the categorical and continuous variables for ANOVA\n",
        "categorical_variable = 'Country'  # Replace with the actual column name\n",
        "continuous_variable = 'Price'  # Replace with the actual column name\n",
        "\n",
        "# Clean the \"Price\" column by removing non-numeric characters and converting to numeric\n",
        "df['Price'] = pd.to_numeric(df['Price'], errors='coerce')\n",
        "\n",
        "# Remove rows with NaN (non-numeric) values in the \"Price\" column\n",
        "df.dropna(subset=['Price'], inplace=True)\n",
        "\n",
        "# Group the data by the categorical variable\n",
        "grouped_data = [data['Price'] for name, data in df.groupby(categorical_variable)]\n",
        "\n",
        "# Perform the ANOVA test\n",
        "f_statistic, p_value = f_oneway(*grouped_data)\n",
        "\n",
        "# Significance level (alpha)\n",
        "alpha = 0.05\n",
        "\n",
        "# Perform the ANOVA test\n",
        "if p_value < alpha:\n",
        "    print(f'Reject the null hypothesis: There are significant differences in \"{continuous_variable}\" across \"{categorical_variable}\" categories.')\n",
        "else:\n",
        "    print(f'Fail to reject the null hypothesis: There are no significant differences in \"{continuous_variable}\" across \"{categorical_variable}\" categories.')\n",
        "\n",
        "# You can also print the F-statistic and p-value for reference\n",
        "print(f'F-statistic: {f_statistic}')\n",
        "print(f'p-value: {p_value}')\n"
      ],
      "metadata": {
        "colab": {
          "base_uri": "https://localhost:8080/"
        },
        "id": "WAHUN3ejiKbK",
        "outputId": "522e9331-41b4-45b3-bdd9-9b83193347ec"
      },
      "execution_count": 20,
      "outputs": [
        {
          "output_type": "stream",
          "name": "stdout",
          "text": [
            "Reject the null hypothesis: There are significant differences in \"Price\" across \"Country\" categories.\n",
            "F-statistic: 4.988437795928672\n",
            "p-value: 1.5304906778649132e-22\n"
          ]
        }
      ]
    },
    {
      "cell_type": "markdown",
      "source": [
        "**Chi-Square**"
      ],
      "metadata": {
        "id": "ErZcTE6ViUaj"
      }
    },
    {
      "cell_type": "code",
      "source": [
        "import pandas as pd\n",
        "from scipy.stats import chi2_contingency\n",
        "\n",
        "# Load your dataset\n",
        "# For this example, I'll assume you have loaded your dataset into a DataFrame called 'df'\n",
        "\n",
        "# Define the two categorical variables (e.g., 'Country' and 'AnotherVariable')\n",
        "categorical_variable1 = 'Country'  # Replace with the actual column name\n",
        "categorical_variable2 = 'Price'  # Replace with the actual column name\n",
        "\n",
        "# Create a contingency table of the two categorical variables\n",
        "contingency_table = pd.crosstab(df[categorical_variable1], df[categorical_variable2])\n",
        "\n",
        "# Perform the chi-squared test\n",
        "chi2, p, dof, expected = chi2_contingency(contingency_table)\n",
        "\n",
        "# Significance level (alpha)\n",
        "alpha = 0.05\n",
        "\n",
        "# Perform the chi-squared test\n",
        "if p < alpha:\n",
        "    print(f'Reject the null hypothesis: There is a significant association between \"{categorical_variable1}\" and \"{categorical_variable2}\".')\n",
        "else:\n",
        "    print(f'Fail to reject the null hypothesis: There is no significant association between \"{categorical_variable1}\" and \"{categorical_variable2}\".')\n",
        "\n",
        "# You can also print the chi-squared statistic, p-value, degrees of freedom, and expected frequencies for reference\n",
        "print(f'Chi-squared statistic: {chi2}')\n",
        "print(f'p-value: {p}')\n",
        "print(f'Degrees of freedom: {dof}')\n",
        "print('Expected frequencies:')\n",
        "print(expected)\n"
      ],
      "metadata": {
        "colab": {
          "base_uri": "https://localhost:8080/"
        },
        "id": "awFvYnZ2iUm0",
        "outputId": "f8cc92f6-9f7c-4127-e6ba-2266cbbee756"
      },
      "execution_count": 23,
      "outputs": [
        {
          "output_type": "stream",
          "name": "stdout",
          "text": [
            "Reject the null hypothesis: There is a significant association between \"Country\" and \"Price\".\n",
            "Chi-squared statistic: 258340.70953003532\n",
            "p-value: 0.0\n",
            "Degrees of freedom: 62595\n",
            "Expected frequencies:\n",
            "[[4.58891906e+00 1.74246995e-02 1.24462139e-03 ... 1.24462139e-03\n",
            "  1.24462139e-03 1.24462139e-03]\n",
            " [3.76796565e+00 1.43074367e-02 1.02195976e-03 ... 1.02195976e-03\n",
            "  1.02195976e-03 1.02195976e-03]\n",
            " [7.50786452e-01 2.85083003e-03 2.03630717e-04 ... 2.03630717e-04\n",
            "  2.03630717e-04 2.03630717e-04]\n",
            " ...\n",
            " [3.40907570e+03 1.29446867e+01 9.24620476e-01 ... 9.24620476e-01\n",
            "  9.24620476e-01 9.24620476e-01]\n",
            " [2.17517570e+00 8.25941411e-03 5.89958151e-04 ... 5.89958151e-04\n",
            "  5.89958151e-04 5.89958151e-04]\n",
            " [3.78901574e-01 1.43873665e-03 1.02766904e-04 ... 1.02766904e-04\n",
            "  1.02766904e-04 1.02766904e-04]]\n"
          ]
        }
      ]
    },
    {
      "cell_type": "markdown",
      "source": [
        "**PCA**"
      ],
      "metadata": {
        "id": "J5ha4qtDj17p"
      }
    },
    {
      "cell_type": "code",
      "source": [
        "import pandas as pd\n",
        "from sklearn.decomposition import PCA\n",
        "from sklearn.preprocessing import StandardScaler\n",
        "import matplotlib.pyplot as plt\n",
        "\n",
        "# Load your dataset (replace 'your_dataset.csv' with your actual dataset file)\n",
        "df=pd.read_excel('online_retail_II.xlsx')\n",
        "\n",
        "\n",
        "# Select the column for PCA (e.g., 'Price')\n",
        "column_name = 'Price'\n",
        "X = df[[column_name]]\n",
        "\n",
        "# Standardize the data\n",
        "scaler = StandardScaler()\n",
        "X = scaler.fit_transform(X)\n",
        "\n",
        "# Perform PCA\n",
        "pca = PCA(n_components=1)\n",
        "X_pca = pca.fit_transform(X)\n",
        "\n",
        "# Add the PCA result to your dataset\n",
        "df['PCA_Result'] = X_pca\n",
        "\n",
        "# Visualize the explained variance ratio\n",
        "explained_variance_ratio = pca.explained_variance_ratio_\n",
        "print(f'Explained Variance Ratio: {explained_variance_ratio[0]:.2f}')\n",
        "\n",
        "# Plot the PCA result\n",
        "plt.scatter(X_pca, [0] * len(X_pca), alpha=0.5)\n",
        "plt.xlabel('PCA Result')\n",
        "plt.title('PCA Result')\n",
        "plt.show()\n"
      ],
      "metadata": {
        "colab": {
          "base_uri": "https://localhost:8080/",
          "height": 490
        },
        "id": "R4rr1X07mCe8",
        "outputId": "6775d242-43fa-42c9-8e5d-7a24b508c174"
      },
      "execution_count": 25,
      "outputs": [
        {
          "output_type": "stream",
          "name": "stdout",
          "text": [
            "Explained Variance Ratio: 1.00\n"
          ]
        },
        {
          "output_type": "display_data",
          "data": {
            "text/plain": [
              "<Figure size 640x480 with 1 Axes>"
            ],
            "image/png": "[encoded data removed]"
          },
          "metadata": {}
        }
      ]
    },
    {
      "cell_type": "markdown",
      "source": [
        "**7.Interpreting test statistics**"
      ],
      "metadata": {
        "id": "TLRClIfdnEcm"
      }
    },
    {
      "cell_type": "code",
      "source": [
        "import pandas as pd\n",
        "from scipy.stats import ttest_ind\n",
        "\n",
        "# Assuming you have the data loaded as 'df'\n",
        "uk_prices = df[df['Country'] == 'United Kingdom']['Price']\n",
        "germany_prices = df[df['Country'] == 'Germany']['Price']\n",
        "\n",
        "# Perform the t-test\n",
        "t_statistic, p_value = ttest_ind(uk_prices, germany_prices)\n",
        "\n",
        "# Interpret the test results\n",
        "alpha = 0.05  # Significance level\n",
        "if p_value < alpha:\n",
        "    print(\"There is a statistically significant difference in prices between the UK and Germany.\")\n",
        "else:\n",
        "    print(\"There is no statistically significant difference in prices between the UK and Germany.\")\n"
      ],
      "metadata": {
        "colab": {
          "base_uri": "https://localhost:8080/"
        },
        "id": "PIIj2B6nnEut",
        "outputId": "a80e9122-ce23-4c2a-939a-c457b03a0e8b"
      },
      "execution_count": 26,
      "outputs": [
        {
          "output_type": "stream",
          "name": "stdout",
          "text": [
            "There is no statistically significant difference in prices between the UK and Germany.\n"
          ]
        }
      ]
    }
  ]
}